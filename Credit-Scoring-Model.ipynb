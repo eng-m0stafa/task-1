{
 "cells": [
  {
   "cell_type": "markdown",
   "id": "06bcf083",
   "metadata": {
    "_cell_guid": "b1076dfc-b9ad-4769-8c92-a6c4dae69d19",
    "_uuid": "8f2839f25d086af736a60e9eeb907d3b93b6e0e5",
    "papermill": {
     "duration": 0.010554,
     "end_time": "2024-02-19T20:40:23.373009",
     "exception": false,
     "start_time": "2024-02-19T20:40:23.362455",
     "status": "completed"
    },
    "tags": []
   },
   "source": [
    "<h1>Credit Scoring Model</h1>"
   ]
  },
  {
   "cell_type": "markdown",
   "id": "b21e059a",
   "metadata": {
    "papermill": {
     "duration": 0.010589,
     "end_time": "2024-02-19T20:40:23.394152",
     "exception": false,
     "start_time": "2024-02-19T20:40:23.383563",
     "status": "completed"
    },
    "tags": []
   },
   "source": [
    "<h3>Develop a credit scoring model to predict the creditworthiness of individuals based on historical financial data. Utilize classification algorithms and assess the model's accuracy.<h3>"
   ]
  },
  {
   "cell_type": "code",
   "execution_count": 1,
   "id": "37060571",
   "metadata": {
    "execution": {
     "iopub.execute_input": "2024-02-19T20:40:23.416776Z",
     "iopub.status.busy": "2024-02-19T20:40:23.416372Z",
     "iopub.status.idle": "2024-02-19T20:40:24.410864Z",
     "shell.execute_reply": "2024-02-19T20:40:24.409257Z"
    },
    "papermill": {
     "duration": 1.008869,
     "end_time": "2024-02-19T20:40:24.413230",
     "exception": false,
     "start_time": "2024-02-19T20:40:23.404361",
     "status": "completed"
    },
    "tags": []
   },
   "outputs": [
    {
     "name": "stdout",
     "output_type": "stream",
     "text": [
      "/kaggle/input/bank-credit-scoring/bank.csv\n",
      "/kaggle/input/bank-credit-scoring/scoring.jpg\n"
     ]
    }
   ],
   "source": [
    "# This Python 3 environment comes with many helpful analytics libraries installed\n",
    "# It is defined by the kaggle/python Docker image: https://github.com/kaggle/docker-python\n",
    "# For example, here's several helpful packages to load\n",
    "\n",
    "import numpy as np # linear algebra\n",
    "import pandas as pd # data processing, CSV file I/O (e.g. pd.read_csv)\n",
    "\n",
    "# Input data files are available in the read-only \"../input/\" directory\n",
    "# For example, running this (by clicking run or pressing Shift+Enter) will list all files under the input directory\n",
    "\n",
    "import os\n",
    "for dirname, _, filenames in os.walk('/kaggle/input'):\n",
    "    for filename in filenames:\n",
    "        print(os.path.join(dirname, filename))\n",
    "\n",
    "# You can write up to 20GB to the current directory (/kaggle/working/) that gets preserved as output when you create a version using \"Save & Run All\" \n",
    "# You can also write temporary files to /kaggle/temp/, but they won't be saved outside of the current session"
   ]
  },
  {
   "cell_type": "code",
   "execution_count": 2,
   "id": "29f647b7",
   "metadata": {
    "execution": {
     "iopub.execute_input": "2024-02-19T20:40:24.438202Z",
     "iopub.status.busy": "2024-02-19T20:40:24.437673Z",
     "iopub.status.idle": "2024-02-19T20:40:27.655180Z",
     "shell.execute_reply": "2024-02-19T20:40:27.654410Z"
    },
    "papermill": {
     "duration": 3.23357,
     "end_time": "2024-02-19T20:40:27.657451",
     "exception": false,
     "start_time": "2024-02-19T20:40:24.423881",
     "status": "completed"
    },
    "tags": []
   },
   "outputs": [],
   "source": [
    "#Importing The Required Libraries\n",
    "import pandas as pd\n",
    "import seaborn as sns\n",
    "from sklearn import preprocessing\n",
    "import numpy as np\n",
    "import matplotlib.pyplot as plt\n",
    "from sklearn.feature_selection import SelectKBest\n",
    "from sklearn.preprocessing import LabelEncoder\n",
    "from sklearn.preprocessing import MinMaxScaler\n",
    "from sklearn.model_selection import train_test_split\n",
    "from sklearn.neighbors import KNeighborsClassifier\n",
    "from sklearn.svm import SVC\n",
    "from sklearn.naive_bayes import GaussianNB\n",
    "from sklearn.tree import DecisionTreeClassifier\n",
    "from sklearn.ensemble import RandomForestClassifier\n",
    "from sklearn.ensemble import AdaBoostClassifier\n",
    "from sklearn.ensemble import GradientBoostingClassifier\n",
    "import plotly.express as px\n",
    "from sklearn import svm\n",
    "from sklearn.metrics import f1_score\n",
    "from sklearn.linear_model import LogisticRegression\n",
    "from xgboost import XGBClassifier\n",
    "import itertools\n",
    "from imblearn.over_sampling import RandomOverSampler\n",
    "import warnings\n",
    "warnings.filterwarnings(\"ignore\")\n",
    "from sklearn.metrics import classification_report,ConfusionMatrixDisplay,f1_score,confusion_matrix, accuracy_score"
   ]
  },
  {
   "cell_type": "code",
   "execution_count": 3,
   "id": "958e2d5c",
   "metadata": {
    "execution": {
     "iopub.execute_input": "2024-02-19T20:40:27.680449Z",
     "iopub.status.busy": "2024-02-19T20:40:27.679675Z",
     "iopub.status.idle": "2024-02-19T20:40:27.688314Z",
     "shell.execute_reply": "2024-02-19T20:40:27.687559Z"
    },
    "papermill": {
     "duration": 0.022642,
     "end_time": "2024-02-19T20:40:27.690532",
     "exception": false,
     "start_time": "2024-02-19T20:40:27.667890",
     "status": "completed"
    },
    "tags": []
   },
   "outputs": [],
   "source": [
    "def plot_confusion_matrix(cm, classes,\n",
    "                          normalize=False,\n",
    "                          title='Confusion matrix',\n",
    "                          cmap=plt.cm.Blues):\n",
    "    \"\"\"\n",
    "    This function prints and plots the confusion matrix.\n",
    "    Normalization can be applied by setting `normalize=True`.\n",
    "    \"\"\"\n",
    "    if normalize:\n",
    "        cm = cm.astype('float') / cm.sum(axis=1)[:, np.newaxis]\n",
    "        print(\"Normalized confusion matrix\")\n",
    "    else:\n",
    "        print('Confusion matrix, without normalization')\n",
    "\n",
    "    print(cm)\n",
    "\n",
    "    plt.imshow(cm, interpolation='nearest', cmap=cmap)\n",
    "    plt.title(title)\n",
    "    plt.colorbar()\n",
    "    tick_marks = np.arange(len(classes))\n",
    "    plt.xticks(tick_marks, classes, rotation=45)\n",
    "    plt.yticks(tick_marks, classes)\n",
    "\n",
    "    fmt = '.2f' if normalize else 'd'\n",
    "    thresh = cm.max() / 2.\n",
    "    for i, j in itertools.product(range(cm.shape[0]), range(cm.shape[1])):\n",
    "        plt.text(j, i, format(cm[i, j], fmt),\n",
    "                 horizontalalignment=\"center\",\n",
    "                 color=\"white\" if cm[i, j] > thresh else \"black\")\n",
    "\n",
    "    plt.tight_layout()\n",
    "    plt.ylabel('True label')\n",
    "    plt.xlabel('Predicted label')"
   ]
  },
  {
   "cell_type": "code",
   "execution_count": 4,
   "id": "73e8594b",
   "metadata": {
    "execution": {
     "iopub.execute_input": "2024-02-19T20:40:27.714522Z",
     "iopub.status.busy": "2024-02-19T20:40:27.714025Z",
     "iopub.status.idle": "2024-02-19T20:40:27.763242Z",
     "shell.execute_reply": "2024-02-19T20:40:27.762247Z"
    },
    "papermill": {
     "duration": 0.064214,
     "end_time": "2024-02-19T20:40:27.765106",
     "exception": false,
     "start_time": "2024-02-19T20:40:27.700892",
     "status": "completed"
    },
    "tags": []
   },
   "outputs": [
    {
     "data": {
      "text/html": [
       "<div>\n",
       "<style scoped>\n",
       "    .dataframe tbody tr th:only-of-type {\n",
       "        vertical-align: middle;\n",
       "    }\n",
       "\n",
       "    .dataframe tbody tr th {\n",
       "        vertical-align: top;\n",
       "    }\n",
       "\n",
       "    .dataframe thead th {\n",
       "        text-align: right;\n",
       "    }\n",
       "</style>\n",
       "<table border=\"1\" class=\"dataframe\">\n",
       "  <thead>\n",
       "    <tr style=\"text-align: right;\">\n",
       "      <th></th>\n",
       "      <th>age</th>\n",
       "      <th>job</th>\n",
       "      <th>marital</th>\n",
       "      <th>education</th>\n",
       "      <th>default</th>\n",
       "      <th>balance</th>\n",
       "      <th>housing</th>\n",
       "      <th>loan</th>\n",
       "      <th>contact</th>\n",
       "      <th>day</th>\n",
       "      <th>month</th>\n",
       "      <th>duration</th>\n",
       "      <th>campaign</th>\n",
       "      <th>pdays</th>\n",
       "      <th>previous</th>\n",
       "      <th>poutcome</th>\n",
       "      <th>y</th>\n",
       "    </tr>\n",
       "  </thead>\n",
       "  <tbody>\n",
       "    <tr>\n",
       "      <th>0</th>\n",
       "      <td>30</td>\n",
       "      <td>unemployed</td>\n",
       "      <td>married</td>\n",
       "      <td>primary</td>\n",
       "      <td>no</td>\n",
       "      <td>1787</td>\n",
       "      <td>no</td>\n",
       "      <td>no</td>\n",
       "      <td>cellular</td>\n",
       "      <td>19</td>\n",
       "      <td>oct</td>\n",
       "      <td>79</td>\n",
       "      <td>1</td>\n",
       "      <td>-1</td>\n",
       "      <td>0</td>\n",
       "      <td>unknown</td>\n",
       "      <td>no</td>\n",
       "    </tr>\n",
       "    <tr>\n",
       "      <th>1</th>\n",
       "      <td>33</td>\n",
       "      <td>services</td>\n",
       "      <td>married</td>\n",
       "      <td>secondary</td>\n",
       "      <td>no</td>\n",
       "      <td>4789</td>\n",
       "      <td>yes</td>\n",
       "      <td>yes</td>\n",
       "      <td>cellular</td>\n",
       "      <td>11</td>\n",
       "      <td>may</td>\n",
       "      <td>220</td>\n",
       "      <td>1</td>\n",
       "      <td>339</td>\n",
       "      <td>4</td>\n",
       "      <td>failure</td>\n",
       "      <td>no</td>\n",
       "    </tr>\n",
       "    <tr>\n",
       "      <th>2</th>\n",
       "      <td>35</td>\n",
       "      <td>management</td>\n",
       "      <td>single</td>\n",
       "      <td>tertiary</td>\n",
       "      <td>no</td>\n",
       "      <td>1350</td>\n",
       "      <td>yes</td>\n",
       "      <td>no</td>\n",
       "      <td>cellular</td>\n",
       "      <td>16</td>\n",
       "      <td>apr</td>\n",
       "      <td>185</td>\n",
       "      <td>1</td>\n",
       "      <td>330</td>\n",
       "      <td>1</td>\n",
       "      <td>failure</td>\n",
       "      <td>no</td>\n",
       "    </tr>\n",
       "    <tr>\n",
       "      <th>3</th>\n",
       "      <td>30</td>\n",
       "      <td>management</td>\n",
       "      <td>married</td>\n",
       "      <td>tertiary</td>\n",
       "      <td>no</td>\n",
       "      <td>1476</td>\n",
       "      <td>yes</td>\n",
       "      <td>yes</td>\n",
       "      <td>unknown</td>\n",
       "      <td>3</td>\n",
       "      <td>jun</td>\n",
       "      <td>199</td>\n",
       "      <td>4</td>\n",
       "      <td>-1</td>\n",
       "      <td>0</td>\n",
       "      <td>unknown</td>\n",
       "      <td>no</td>\n",
       "    </tr>\n",
       "    <tr>\n",
       "      <th>4</th>\n",
       "      <td>59</td>\n",
       "      <td>blue-collar</td>\n",
       "      <td>married</td>\n",
       "      <td>secondary</td>\n",
       "      <td>no</td>\n",
       "      <td>0</td>\n",
       "      <td>yes</td>\n",
       "      <td>no</td>\n",
       "      <td>unknown</td>\n",
       "      <td>5</td>\n",
       "      <td>may</td>\n",
       "      <td>226</td>\n",
       "      <td>1</td>\n",
       "      <td>-1</td>\n",
       "      <td>0</td>\n",
       "      <td>unknown</td>\n",
       "      <td>no</td>\n",
       "    </tr>\n",
       "  </tbody>\n",
       "</table>\n",
       "</div>"
      ],
      "text/plain": [
       "   age          job  marital  education default  balance housing loan  \\\n",
       "0   30   unemployed  married    primary      no     1787      no   no   \n",
       "1   33     services  married  secondary      no     4789     yes  yes   \n",
       "2   35   management   single   tertiary      no     1350     yes   no   \n",
       "3   30   management  married   tertiary      no     1476     yes  yes   \n",
       "4   59  blue-collar  married  secondary      no        0     yes   no   \n",
       "\n",
       "    contact  day month  duration  campaign  pdays  previous poutcome   y  \n",
       "0  cellular   19   oct        79         1     -1         0  unknown  no  \n",
       "1  cellular   11   may       220         1    339         4  failure  no  \n",
       "2  cellular   16   apr       185         1    330         1  failure  no  \n",
       "3   unknown    3   jun       199         4     -1         0  unknown  no  \n",
       "4   unknown    5   may       226         1     -1         0  unknown  no  "
      ]
     },
     "execution_count": 4,
     "metadata": {},
     "output_type": "execute_result"
    }
   ],
   "source": [
    "df=pd.read_csv(\"/kaggle/input/bank-credit-scoring/bank.csv\", sep=\";\")\n",
    "df.head()"
   ]
  },
  {
   "cell_type": "code",
   "execution_count": 5,
   "id": "b3bd7f1e",
   "metadata": {
    "execution": {
     "iopub.execute_input": "2024-02-19T20:40:27.788949Z",
     "iopub.status.busy": "2024-02-19T20:40:27.787544Z",
     "iopub.status.idle": "2024-02-19T20:40:27.794527Z",
     "shell.execute_reply": "2024-02-19T20:40:27.793406Z"
    },
    "papermill": {
     "duration": 0.020575,
     "end_time": "2024-02-19T20:40:27.796248",
     "exception": false,
     "start_time": "2024-02-19T20:40:27.775673",
     "status": "completed"
    },
    "tags": []
   },
   "outputs": [
    {
     "data": {
      "text/plain": [
       "(4521, 17)"
      ]
     },
     "execution_count": 5,
     "metadata": {},
     "output_type": "execute_result"
    }
   ],
   "source": [
    "df.shape"
   ]
  },
  {
   "cell_type": "markdown",
   "id": "53c62dbb",
   "metadata": {
    "papermill": {
     "duration": 0.009925,
     "end_time": "2024-02-19T20:40:27.816577",
     "exception": false,
     "start_time": "2024-02-19T20:40:27.806652",
     "status": "completed"
    },
    "tags": []
   },
   "source": [
    "# Preprocessing"
   ]
  },
  {
   "cell_type": "code",
   "execution_count": 6,
   "id": "ad7636a8",
   "metadata": {
    "execution": {
     "iopub.execute_input": "2024-02-19T20:40:27.839016Z",
     "iopub.status.busy": "2024-02-19T20:40:27.838684Z",
     "iopub.status.idle": "2024-02-19T20:40:27.851338Z",
     "shell.execute_reply": "2024-02-19T20:40:27.850079Z"
    },
    "papermill": {
     "duration": 0.026348,
     "end_time": "2024-02-19T20:40:27.853400",
     "exception": false,
     "start_time": "2024-02-19T20:40:27.827052",
     "status": "completed"
    },
    "tags": []
   },
   "outputs": [
    {
     "data": {
      "text/plain": [
       "age          0\n",
       "job          0\n",
       "marital      0\n",
       "education    0\n",
       "default      0\n",
       "balance      0\n",
       "housing      0\n",
       "loan         0\n",
       "contact      0\n",
       "day          0\n",
       "month        0\n",
       "duration     0\n",
       "campaign     0\n",
       "pdays        0\n",
       "previous     0\n",
       "poutcome     0\n",
       "y            0\n",
       "dtype: int64"
      ]
     },
     "execution_count": 6,
     "metadata": {},
     "output_type": "execute_result"
    }
   ],
   "source": [
    "df.isnull().sum()"
   ]
  },
  {
   "cell_type": "code",
   "execution_count": 7,
   "id": "faf5c02a",
   "metadata": {
    "execution": {
     "iopub.execute_input": "2024-02-19T20:40:27.875575Z",
     "iopub.status.busy": "2024-02-19T20:40:27.875223Z",
     "iopub.status.idle": "2024-02-19T20:40:27.898674Z",
     "shell.execute_reply": "2024-02-19T20:40:27.897365Z"
    },
    "papermill": {
     "duration": 0.037314,
     "end_time": "2024-02-19T20:40:27.901139",
     "exception": false,
     "start_time": "2024-02-19T20:40:27.863825",
     "status": "completed"
    },
    "tags": []
   },
   "outputs": [
    {
     "data": {
      "text/plain": [
       "0"
      ]
     },
     "execution_count": 7,
     "metadata": {},
     "output_type": "execute_result"
    }
   ],
   "source": [
    "df.duplicated().sum()"
   ]
  },
  {
   "cell_type": "code",
   "execution_count": 8,
   "id": "b4c8446a",
   "metadata": {
    "execution": {
     "iopub.execute_input": "2024-02-19T20:40:27.924832Z",
     "iopub.status.busy": "2024-02-19T20:40:27.924507Z",
     "iopub.status.idle": "2024-02-19T20:40:27.952572Z",
     "shell.execute_reply": "2024-02-19T20:40:27.951352Z"
    },
    "papermill": {
     "duration": 0.042607,
     "end_time": "2024-02-19T20:40:27.954653",
     "exception": false,
     "start_time": "2024-02-19T20:40:27.912046",
     "status": "completed"
    },
    "tags": []
   },
   "outputs": [
    {
     "data": {
      "text/html": [
       "<div>\n",
       "<style scoped>\n",
       "    .dataframe tbody tr th:only-of-type {\n",
       "        vertical-align: middle;\n",
       "    }\n",
       "\n",
       "    .dataframe tbody tr th {\n",
       "        vertical-align: top;\n",
       "    }\n",
       "\n",
       "    .dataframe thead th {\n",
       "        text-align: right;\n",
       "    }\n",
       "</style>\n",
       "<table border=\"1\" class=\"dataframe\">\n",
       "  <thead>\n",
       "    <tr style=\"text-align: right;\">\n",
       "      <th></th>\n",
       "      <th>age</th>\n",
       "      <th>balance</th>\n",
       "      <th>day</th>\n",
       "      <th>duration</th>\n",
       "      <th>campaign</th>\n",
       "      <th>pdays</th>\n",
       "      <th>previous</th>\n",
       "    </tr>\n",
       "  </thead>\n",
       "  <tbody>\n",
       "    <tr>\n",
       "      <th>count</th>\n",
       "      <td>4521.000000</td>\n",
       "      <td>4521.000000</td>\n",
       "      <td>4521.000000</td>\n",
       "      <td>4521.000000</td>\n",
       "      <td>4521.000000</td>\n",
       "      <td>4521.000000</td>\n",
       "      <td>4521.000000</td>\n",
       "    </tr>\n",
       "    <tr>\n",
       "      <th>mean</th>\n",
       "      <td>41.170095</td>\n",
       "      <td>1422.657819</td>\n",
       "      <td>15.915284</td>\n",
       "      <td>263.961292</td>\n",
       "      <td>2.793630</td>\n",
       "      <td>39.766645</td>\n",
       "      <td>0.542579</td>\n",
       "    </tr>\n",
       "    <tr>\n",
       "      <th>std</th>\n",
       "      <td>10.576211</td>\n",
       "      <td>3009.638142</td>\n",
       "      <td>8.247667</td>\n",
       "      <td>259.856633</td>\n",
       "      <td>3.109807</td>\n",
       "      <td>100.121124</td>\n",
       "      <td>1.693562</td>\n",
       "    </tr>\n",
       "    <tr>\n",
       "      <th>min</th>\n",
       "      <td>19.000000</td>\n",
       "      <td>-3313.000000</td>\n",
       "      <td>1.000000</td>\n",
       "      <td>4.000000</td>\n",
       "      <td>1.000000</td>\n",
       "      <td>-1.000000</td>\n",
       "      <td>0.000000</td>\n",
       "    </tr>\n",
       "    <tr>\n",
       "      <th>25%</th>\n",
       "      <td>33.000000</td>\n",
       "      <td>69.000000</td>\n",
       "      <td>9.000000</td>\n",
       "      <td>104.000000</td>\n",
       "      <td>1.000000</td>\n",
       "      <td>-1.000000</td>\n",
       "      <td>0.000000</td>\n",
       "    </tr>\n",
       "    <tr>\n",
       "      <th>50%</th>\n",
       "      <td>39.000000</td>\n",
       "      <td>444.000000</td>\n",
       "      <td>16.000000</td>\n",
       "      <td>185.000000</td>\n",
       "      <td>2.000000</td>\n",
       "      <td>-1.000000</td>\n",
       "      <td>0.000000</td>\n",
       "    </tr>\n",
       "    <tr>\n",
       "      <th>75%</th>\n",
       "      <td>49.000000</td>\n",
       "      <td>1480.000000</td>\n",
       "      <td>21.000000</td>\n",
       "      <td>329.000000</td>\n",
       "      <td>3.000000</td>\n",
       "      <td>-1.000000</td>\n",
       "      <td>0.000000</td>\n",
       "    </tr>\n",
       "    <tr>\n",
       "      <th>max</th>\n",
       "      <td>87.000000</td>\n",
       "      <td>71188.000000</td>\n",
       "      <td>31.000000</td>\n",
       "      <td>3025.000000</td>\n",
       "      <td>50.000000</td>\n",
       "      <td>871.000000</td>\n",
       "      <td>25.000000</td>\n",
       "    </tr>\n",
       "  </tbody>\n",
       "</table>\n",
       "</div>"
      ],
      "text/plain": [
       "               age       balance          day     duration     campaign  \\\n",
       "count  4521.000000   4521.000000  4521.000000  4521.000000  4521.000000   \n",
       "mean     41.170095   1422.657819    15.915284   263.961292     2.793630   \n",
       "std      10.576211   3009.638142     8.247667   259.856633     3.109807   \n",
       "min      19.000000  -3313.000000     1.000000     4.000000     1.000000   \n",
       "25%      33.000000     69.000000     9.000000   104.000000     1.000000   \n",
       "50%      39.000000    444.000000    16.000000   185.000000     2.000000   \n",
       "75%      49.000000   1480.000000    21.000000   329.000000     3.000000   \n",
       "max      87.000000  71188.000000    31.000000  3025.000000    50.000000   \n",
       "\n",
       "             pdays     previous  \n",
       "count  4521.000000  4521.000000  \n",
       "mean     39.766645     0.542579  \n",
       "std     100.121124     1.693562  \n",
       "min      -1.000000     0.000000  \n",
       "25%      -1.000000     0.000000  \n",
       "50%      -1.000000     0.000000  \n",
       "75%      -1.000000     0.000000  \n",
       "max     871.000000    25.000000  "
      ]
     },
     "execution_count": 8,
     "metadata": {},
     "output_type": "execute_result"
    }
   ],
   "source": [
    "df.describe()"
   ]
  },
  {
   "cell_type": "code",
   "execution_count": 9,
   "id": "6779ede5",
   "metadata": {
    "execution": {
     "iopub.execute_input": "2024-02-19T20:40:27.978277Z",
     "iopub.status.busy": "2024-02-19T20:40:27.977972Z",
     "iopub.status.idle": "2024-02-19T20:40:28.001527Z",
     "shell.execute_reply": "2024-02-19T20:40:27.999723Z"
    },
    "papermill": {
     "duration": 0.03845,
     "end_time": "2024-02-19T20:40:28.004045",
     "exception": false,
     "start_time": "2024-02-19T20:40:27.965595",
     "status": "completed"
    },
    "tags": []
   },
   "outputs": [
    {
     "name": "stdout",
     "output_type": "stream",
     "text": [
      "<class 'pandas.core.frame.DataFrame'>\n",
      "RangeIndex: 4521 entries, 0 to 4520\n",
      "Data columns (total 17 columns):\n",
      " #   Column     Non-Null Count  Dtype \n",
      "---  ------     --------------  ----- \n",
      " 0   age        4521 non-null   int64 \n",
      " 1   job        4521 non-null   object\n",
      " 2   marital    4521 non-null   object\n",
      " 3   education  4521 non-null   object\n",
      " 4   default    4521 non-null   object\n",
      " 5   balance    4521 non-null   int64 \n",
      " 6   housing    4521 non-null   object\n",
      " 7   loan       4521 non-null   object\n",
      " 8   contact    4521 non-null   object\n",
      " 9   day        4521 non-null   int64 \n",
      " 10  month      4521 non-null   object\n",
      " 11  duration   4521 non-null   int64 \n",
      " 12  campaign   4521 non-null   int64 \n",
      " 13  pdays      4521 non-null   int64 \n",
      " 14  previous   4521 non-null   int64 \n",
      " 15  poutcome   4521 non-null   object\n",
      " 16  y          4521 non-null   object\n",
      "dtypes: int64(7), object(10)\n",
      "memory usage: 600.6+ KB\n"
     ]
    }
   ],
   "source": [
    "df.info()"
   ]
  },
  {
   "cell_type": "code",
   "execution_count": 10,
   "id": "be1c559b",
   "metadata": {
    "execution": {
     "iopub.execute_input": "2024-02-19T20:40:28.027946Z",
     "iopub.status.busy": "2024-02-19T20:40:28.027347Z",
     "iopub.status.idle": "2024-02-19T20:40:28.035875Z",
     "shell.execute_reply": "2024-02-19T20:40:28.034666Z"
    },
    "papermill": {
     "duration": 0.02266,
     "end_time": "2024-02-19T20:40:28.037814",
     "exception": false,
     "start_time": "2024-02-19T20:40:28.015154",
     "status": "completed"
    },
    "tags": []
   },
   "outputs": [
    {
     "data": {
      "text/plain": [
       "marital\n",
       "married     2797\n",
       "single      1196\n",
       "divorced     528\n",
       "Name: count, dtype: int64"
      ]
     },
     "execution_count": 10,
     "metadata": {},
     "output_type": "execute_result"
    }
   ],
   "source": [
    "df['marital'].value_counts()"
   ]
  },
  {
   "cell_type": "code",
   "execution_count": 11,
   "id": "52e74e48",
   "metadata": {
    "execution": {
     "iopub.execute_input": "2024-02-19T20:40:28.064409Z",
     "iopub.status.busy": "2024-02-19T20:40:28.064028Z",
     "iopub.status.idle": "2024-02-19T20:40:28.250185Z",
     "shell.execute_reply": "2024-02-19T20:40:28.248666Z"
    },
    "papermill": {
     "duration": 0.202992,
     "end_time": "2024-02-19T20:40:28.253032",
     "exception": false,
     "start_time": "2024-02-19T20:40:28.050040",
     "status": "completed"
    },
    "tags": []
   },
   "outputs": [
    {
     "data": {
      "text/plain": [
       "<Axes: xlabel='marital', ylabel='count'>"
      ]
     },
     "execution_count": 11,
     "metadata": {},
     "output_type": "execute_result"
    },
    {
     "data": {
      "image/png": "[encoded data removed]",
      "text/plain": [
       "<Figure size 640x480 with 1 Axes>"
      ]
     },
     "metadata": {},
     "output_type": "display_data"
    }
   ],
   "source": [
    "sns.countplot(x='marital',data=df)"
   ]
  },
  {
   "cell_type": "code",
   "execution_count": 12,
   "id": "cf0b5515",
   "metadata": {
    "execution": {
     "iopub.execute_input": "2024-02-19T20:40:28.277661Z",
     "iopub.status.busy": "2024-02-19T20:40:28.277339Z",
     "iopub.status.idle": "2024-02-19T20:40:28.406553Z",
     "shell.execute_reply": "2024-02-19T20:40:28.405341Z"
    },
    "papermill": {
     "duration": 0.143866,
     "end_time": "2024-02-19T20:40:28.408612",
     "exception": false,
     "start_time": "2024-02-19T20:40:28.264746",
     "status": "completed"
    },
    "tags": []
   },
   "outputs": [
    {
     "data": {
      "text/plain": [
       "<Axes: xlabel='housing', ylabel='count'>"
      ]
     },
     "execution_count": 12,
     "metadata": {},
     "output_type": "execute_result"
    },
    {
     "data": {
      "image/png": "[encoded data removed]",
      "text/plain": [
       "<Figure size 640x480 with 1 Axes>"
      ]
     },
     "metadata": {},
     "output_type": "display_data"
    }
   ],
   "source": [
    "sns.countplot(x='housing',data=df)"
   ]
  },
  {
   "cell_type": "code",
   "execution_count": 13,
   "id": "b25ffa0e",
   "metadata": {
    "execution": {
     "iopub.execute_input": "2024-02-19T20:40:28.434015Z",
     "iopub.status.busy": "2024-02-19T20:40:28.433598Z",
     "iopub.status.idle": "2024-02-19T20:40:28.441690Z",
     "shell.execute_reply": "2024-02-19T20:40:28.440160Z"
    },
    "papermill": {
     "duration": 0.023607,
     "end_time": "2024-02-19T20:40:28.443790",
     "exception": false,
     "start_time": "2024-02-19T20:40:28.420183",
     "status": "completed"
    },
    "tags": []
   },
   "outputs": [
    {
     "data": {
      "text/plain": [
       "Index(['age', 'job', 'marital', 'education', 'default', 'balance', 'housing',\n",
       "       'loan', 'contact', 'day', 'month', 'duration', 'campaign', 'pdays',\n",
       "       'previous', 'poutcome', 'y'],\n",
       "      dtype='object')"
      ]
     },
     "execution_count": 13,
     "metadata": {},
     "output_type": "execute_result"
    }
   ],
   "source": [
    "df.columns"
   ]
  },
  {
   "cell_type": "code",
   "execution_count": 14,
   "id": "7c0f2170",
   "metadata": {
    "execution": {
     "iopub.execute_input": "2024-02-19T20:40:28.469356Z",
     "iopub.status.busy": "2024-02-19T20:40:28.469000Z",
     "iopub.status.idle": "2024-02-19T20:40:28.487467Z",
     "shell.execute_reply": "2024-02-19T20:40:28.485891Z"
    },
    "papermill": {
     "duration": 0.034172,
     "end_time": "2024-02-19T20:40:28.489844",
     "exception": false,
     "start_time": "2024-02-19T20:40:28.455672",
     "status": "completed"
    },
    "tags": []
   },
   "outputs": [],
   "source": [
    "categories_1st=[\"job\",\"marital\",\"education\",\"default\",\"housing\",\"housing\",\"loan\",\"contact\",\"month\",\"poutcome\",\"y\"]\n",
    "LE=LabelEncoder()\n",
    "for i in categories_1st:\n",
    "    df[i]=LE.fit_transform(df[i])"
   ]
  },
  {
   "cell_type": "code",
   "execution_count": 15,
   "id": "ff532e55",
   "metadata": {
    "execution": {
     "iopub.execute_input": "2024-02-19T20:40:28.515129Z",
     "iopub.status.busy": "2024-02-19T20:40:28.514747Z",
     "iopub.status.idle": "2024-02-19T20:40:28.521286Z",
     "shell.execute_reply": "2024-02-19T20:40:28.520198Z"
    },
    "papermill": {
     "duration": 0.021851,
     "end_time": "2024-02-19T20:40:28.523500",
     "exception": false,
     "start_time": "2024-02-19T20:40:28.501649",
     "status": "completed"
    },
    "tags": []
   },
   "outputs": [],
   "source": [
    "df.rename(columns={\"y\": \"loan_approval\"}, inplace=True)"
   ]
  },
  {
   "cell_type": "code",
   "execution_count": 16,
   "id": "b2698414",
   "metadata": {
    "execution": {
     "iopub.execute_input": "2024-02-19T20:40:28.548467Z",
     "iopub.status.busy": "2024-02-19T20:40:28.548101Z",
     "iopub.status.idle": "2024-02-19T20:40:28.573860Z",
     "shell.execute_reply": "2024-02-19T20:40:28.572970Z"
    },
    "papermill": {
     "duration": 0.040353,
     "end_time": "2024-02-19T20:40:28.575611",
     "exception": false,
     "start_time": "2024-02-19T20:40:28.535258",
     "status": "completed"
    },
    "tags": []
   },
   "outputs": [
    {
     "data": {
      "text/html": [
       "<div>\n",
       "<style scoped>\n",
       "    .dataframe tbody tr th:only-of-type {\n",
       "        vertical-align: middle;\n",
       "    }\n",
       "\n",
       "    .dataframe tbody tr th {\n",
       "        vertical-align: top;\n",
       "    }\n",
       "\n",
       "    .dataframe thead th {\n",
       "        text-align: right;\n",
       "    }\n",
       "</style>\n",
       "<table border=\"1\" class=\"dataframe\">\n",
       "  <thead>\n",
       "    <tr style=\"text-align: right;\">\n",
       "      <th></th>\n",
       "      <th>age</th>\n",
       "      <th>job</th>\n",
       "      <th>marital</th>\n",
       "      <th>education</th>\n",
       "      <th>default</th>\n",
       "      <th>balance</th>\n",
       "      <th>housing</th>\n",
       "      <th>loan</th>\n",
       "      <th>contact</th>\n",
       "      <th>day</th>\n",
       "      <th>month</th>\n",
       "      <th>duration</th>\n",
       "      <th>campaign</th>\n",
       "      <th>pdays</th>\n",
       "      <th>previous</th>\n",
       "      <th>poutcome</th>\n",
       "      <th>loan_approval</th>\n",
       "    </tr>\n",
       "  </thead>\n",
       "  <tbody>\n",
       "    <tr>\n",
       "      <th>age</th>\n",
       "      <td>1.000000</td>\n",
       "      <td>-0.021500</td>\n",
       "      <td>-0.381485</td>\n",
       "      <td>-0.121613</td>\n",
       "      <td>-0.017885</td>\n",
       "      <td>0.083820</td>\n",
       "      <td>-0.193888</td>\n",
       "      <td>-0.011250</td>\n",
       "      <td>0.015161</td>\n",
       "      <td>-0.017853</td>\n",
       "      <td>-0.040714</td>\n",
       "      <td>-0.002367</td>\n",
       "      <td>-0.005148</td>\n",
       "      <td>-0.008894</td>\n",
       "      <td>-0.003511</td>\n",
       "      <td>-0.009320</td>\n",
       "      <td>0.045092</td>\n",
       "    </tr>\n",
       "    <tr>\n",
       "      <th>job</th>\n",
       "      <td>-0.021500</td>\n",
       "      <td>1.000000</td>\n",
       "      <td>0.069390</td>\n",
       "      <td>0.170160</td>\n",
       "      <td>0.008324</td>\n",
       "      <td>0.009797</td>\n",
       "      <td>-0.128353</td>\n",
       "      <td>-0.040245</td>\n",
       "      <td>-0.074068</td>\n",
       "      <td>0.012865</td>\n",
       "      <td>-0.096613</td>\n",
       "      <td>-0.006739</td>\n",
       "      <td>-0.002739</td>\n",
       "      <td>-0.022760</td>\n",
       "      <td>0.005029</td>\n",
       "      <td>0.013049</td>\n",
       "      <td>0.027401</td>\n",
       "    </tr>\n",
       "    <tr>\n",
       "      <th>marital</th>\n",
       "      <td>-0.381485</td>\n",
       "      <td>0.069390</td>\n",
       "      <td>1.000000</td>\n",
       "      <td>0.102714</td>\n",
       "      <td>-0.020745</td>\n",
       "      <td>0.024971</td>\n",
       "      <td>-0.029851</td>\n",
       "      <td>-0.045210</td>\n",
       "      <td>-0.068236</td>\n",
       "      <td>0.008794</td>\n",
       "      <td>-0.035855</td>\n",
       "      <td>0.006619</td>\n",
       "      <td>0.005915</td>\n",
       "      <td>0.017050</td>\n",
       "      <td>0.038028</td>\n",
       "      <td>-0.027716</td>\n",
       "      <td>0.015042</td>\n",
       "    </tr>\n",
       "    <tr>\n",
       "      <th>education</th>\n",
       "      <td>-0.121613</td>\n",
       "      <td>0.170160</td>\n",
       "      <td>0.102714</td>\n",
       "      <td>1.000000</td>\n",
       "      <td>-0.010534</td>\n",
       "      <td>0.057725</td>\n",
       "      <td>-0.087070</td>\n",
       "      <td>-0.054086</td>\n",
       "      <td>-0.110554</td>\n",
       "      <td>0.014926</td>\n",
       "      <td>-0.050086</td>\n",
       "      <td>-0.014878</td>\n",
       "      <td>-0.001723</td>\n",
       "      <td>0.012077</td>\n",
       "      <td>0.023983</td>\n",
       "      <td>-0.032135</td>\n",
       "      <td>0.042987</td>\n",
       "    </tr>\n",
       "    <tr>\n",
       "      <th>default</th>\n",
       "      <td>-0.017885</td>\n",
       "      <td>0.008324</td>\n",
       "      <td>-0.020745</td>\n",
       "      <td>-0.010534</td>\n",
       "      <td>1.000000</td>\n",
       "      <td>-0.070886</td>\n",
       "      <td>0.006881</td>\n",
       "      <td>0.063994</td>\n",
       "      <td>0.008448</td>\n",
       "      <td>-0.013261</td>\n",
       "      <td>0.014297</td>\n",
       "      <td>-0.011615</td>\n",
       "      <td>-0.012348</td>\n",
       "      <td>-0.026317</td>\n",
       "      <td>-0.026656</td>\n",
       "      <td>0.039032</td>\n",
       "      <td>0.001303</td>\n",
       "    </tr>\n",
       "    <tr>\n",
       "      <th>balance</th>\n",
       "      <td>0.083820</td>\n",
       "      <td>0.009797</td>\n",
       "      <td>0.024971</td>\n",
       "      <td>0.057725</td>\n",
       "      <td>-0.070886</td>\n",
       "      <td>1.000000</td>\n",
       "      <td>-0.050227</td>\n",
       "      <td>-0.071349</td>\n",
       "      <td>-0.009665</td>\n",
       "      <td>-0.008677</td>\n",
       "      <td>0.023113</td>\n",
       "      <td>-0.015950</td>\n",
       "      <td>-0.009976</td>\n",
       "      <td>0.009437</td>\n",
       "      <td>0.026196</td>\n",
       "      <td>-0.029268</td>\n",
       "      <td>0.017905</td>\n",
       "    </tr>\n",
       "    <tr>\n",
       "      <th>housing</th>\n",
       "      <td>-0.193888</td>\n",
       "      <td>-0.128353</td>\n",
       "      <td>-0.029851</td>\n",
       "      <td>-0.087070</td>\n",
       "      <td>0.006881</td>\n",
       "      <td>-0.050227</td>\n",
       "      <td>1.000000</td>\n",
       "      <td>0.018451</td>\n",
       "      <td>0.196454</td>\n",
       "      <td>-0.031291</td>\n",
       "      <td>0.266630</td>\n",
       "      <td>0.015740</td>\n",
       "      <td>-0.003574</td>\n",
       "      <td>0.116893</td>\n",
       "      <td>0.038621</td>\n",
       "      <td>-0.093093</td>\n",
       "      <td>-0.104683</td>\n",
       "    </tr>\n",
       "    <tr>\n",
       "      <th>loan</th>\n",
       "      <td>-0.011250</td>\n",
       "      <td>-0.040245</td>\n",
       "      <td>-0.045210</td>\n",
       "      <td>-0.054086</td>\n",
       "      <td>0.063994</td>\n",
       "      <td>-0.071349</td>\n",
       "      <td>0.018451</td>\n",
       "      <td>1.000000</td>\n",
       "      <td>-0.007319</td>\n",
       "      <td>-0.004879</td>\n",
       "      <td>0.016329</td>\n",
       "      <td>-0.004997</td>\n",
       "      <td>0.017120</td>\n",
       "      <td>-0.031086</td>\n",
       "      <td>-0.022115</td>\n",
       "      <td>0.027028</td>\n",
       "      <td>-0.070517</td>\n",
       "    </tr>\n",
       "    <tr>\n",
       "      <th>contact</th>\n",
       "      <td>0.015161</td>\n",
       "      <td>-0.074068</td>\n",
       "      <td>-0.068236</td>\n",
       "      <td>-0.110554</td>\n",
       "      <td>0.008448</td>\n",
       "      <td>-0.009665</td>\n",
       "      <td>0.196454</td>\n",
       "      <td>-0.007319</td>\n",
       "      <td>1.000000</td>\n",
       "      <td>-0.033807</td>\n",
       "      <td>0.370077</td>\n",
       "      <td>-0.011380</td>\n",
       "      <td>0.012278</td>\n",
       "      <td>-0.243223</td>\n",
       "      <td>-0.187232</td>\n",
       "      <td>0.267173</td>\n",
       "      <td>-0.133595</td>\n",
       "    </tr>\n",
       "    <tr>\n",
       "      <th>day</th>\n",
       "      <td>-0.017853</td>\n",
       "      <td>0.012865</td>\n",
       "      <td>0.008794</td>\n",
       "      <td>0.014926</td>\n",
       "      <td>-0.013261</td>\n",
       "      <td>-0.008677</td>\n",
       "      <td>-0.031291</td>\n",
       "      <td>-0.004879</td>\n",
       "      <td>-0.033807</td>\n",
       "      <td>1.000000</td>\n",
       "      <td>-0.014795</td>\n",
       "      <td>-0.024629</td>\n",
       "      <td>0.160706</td>\n",
       "      <td>-0.094352</td>\n",
       "      <td>-0.059114</td>\n",
       "      <td>0.073714</td>\n",
       "      <td>-0.011244</td>\n",
       "    </tr>\n",
       "    <tr>\n",
       "      <th>month</th>\n",
       "      <td>-0.040714</td>\n",
       "      <td>-0.096613</td>\n",
       "      <td>-0.035855</td>\n",
       "      <td>-0.050086</td>\n",
       "      <td>0.014297</td>\n",
       "      <td>0.023113</td>\n",
       "      <td>0.266630</td>\n",
       "      <td>0.016329</td>\n",
       "      <td>0.370077</td>\n",
       "      <td>-0.014795</td>\n",
       "      <td>1.000000</td>\n",
       "      <td>0.000851</td>\n",
       "      <td>-0.108915</td>\n",
       "      <td>0.033292</td>\n",
       "      <td>0.046899</td>\n",
       "      <td>-0.030189</td>\n",
       "      <td>-0.040933</td>\n",
       "    </tr>\n",
       "    <tr>\n",
       "      <th>duration</th>\n",
       "      <td>-0.002367</td>\n",
       "      <td>-0.006739</td>\n",
       "      <td>0.006619</td>\n",
       "      <td>-0.014878</td>\n",
       "      <td>-0.011615</td>\n",
       "      <td>-0.015950</td>\n",
       "      <td>0.015740</td>\n",
       "      <td>-0.004997</td>\n",
       "      <td>-0.011380</td>\n",
       "      <td>-0.024629</td>\n",
       "      <td>0.000851</td>\n",
       "      <td>1.000000</td>\n",
       "      <td>-0.068382</td>\n",
       "      <td>0.010380</td>\n",
       "      <td>0.018080</td>\n",
       "      <td>0.000478</td>\n",
       "      <td>0.401118</td>\n",
       "    </tr>\n",
       "    <tr>\n",
       "      <th>campaign</th>\n",
       "      <td>-0.005148</td>\n",
       "      <td>-0.002739</td>\n",
       "      <td>0.005915</td>\n",
       "      <td>-0.001723</td>\n",
       "      <td>-0.012348</td>\n",
       "      <td>-0.009976</td>\n",
       "      <td>-0.003574</td>\n",
       "      <td>0.017120</td>\n",
       "      <td>0.012278</td>\n",
       "      <td>0.160706</td>\n",
       "      <td>-0.108915</td>\n",
       "      <td>-0.068382</td>\n",
       "      <td>1.000000</td>\n",
       "      <td>-0.093137</td>\n",
       "      <td>-0.067833</td>\n",
       "      <td>0.110703</td>\n",
       "      <td>-0.061147</td>\n",
       "    </tr>\n",
       "    <tr>\n",
       "      <th>pdays</th>\n",
       "      <td>-0.008894</td>\n",
       "      <td>-0.022760</td>\n",
       "      <td>0.017050</td>\n",
       "      <td>0.012077</td>\n",
       "      <td>-0.026317</td>\n",
       "      <td>0.009437</td>\n",
       "      <td>0.116893</td>\n",
       "      <td>-0.031086</td>\n",
       "      <td>-0.243223</td>\n",
       "      <td>-0.094352</td>\n",
       "      <td>0.033292</td>\n",
       "      <td>0.010380</td>\n",
       "      <td>-0.093137</td>\n",
       "      <td>1.000000</td>\n",
       "      <td>0.577562</td>\n",
       "      <td>-0.859245</td>\n",
       "      <td>0.104087</td>\n",
       "    </tr>\n",
       "    <tr>\n",
       "      <th>previous</th>\n",
       "      <td>-0.003511</td>\n",
       "      <td>0.005029</td>\n",
       "      <td>0.038028</td>\n",
       "      <td>0.023983</td>\n",
       "      <td>-0.026656</td>\n",
       "      <td>0.026196</td>\n",
       "      <td>0.038621</td>\n",
       "      <td>-0.022115</td>\n",
       "      <td>-0.187232</td>\n",
       "      <td>-0.059114</td>\n",
       "      <td>0.046899</td>\n",
       "      <td>0.018080</td>\n",
       "      <td>-0.067833</td>\n",
       "      <td>0.577562</td>\n",
       "      <td>1.000000</td>\n",
       "      <td>-0.636372</td>\n",
       "      <td>0.116714</td>\n",
       "    </tr>\n",
       "    <tr>\n",
       "      <th>poutcome</th>\n",
       "      <td>-0.009320</td>\n",
       "      <td>0.013049</td>\n",
       "      <td>-0.027716</td>\n",
       "      <td>-0.032135</td>\n",
       "      <td>0.039032</td>\n",
       "      <td>-0.029268</td>\n",
       "      <td>-0.093093</td>\n",
       "      <td>0.027028</td>\n",
       "      <td>0.267173</td>\n",
       "      <td>0.073714</td>\n",
       "      <td>-0.030189</td>\n",
       "      <td>0.000478</td>\n",
       "      <td>0.110703</td>\n",
       "      <td>-0.859245</td>\n",
       "      <td>-0.636372</td>\n",
       "      <td>1.000000</td>\n",
       "      <td>-0.082632</td>\n",
       "    </tr>\n",
       "    <tr>\n",
       "      <th>loan_approval</th>\n",
       "      <td>0.045092</td>\n",
       "      <td>0.027401</td>\n",
       "      <td>0.015042</td>\n",
       "      <td>0.042987</td>\n",
       "      <td>0.001303</td>\n",
       "      <td>0.017905</td>\n",
       "      <td>-0.104683</td>\n",
       "      <td>-0.070517</td>\n",
       "      <td>-0.133595</td>\n",
       "      <td>-0.011244</td>\n",
       "      <td>-0.040933</td>\n",
       "      <td>0.401118</td>\n",
       "      <td>-0.061147</td>\n",
       "      <td>0.104087</td>\n",
       "      <td>0.116714</td>\n",
       "      <td>-0.082632</td>\n",
       "      <td>1.000000</td>\n",
       "    </tr>\n",
       "  </tbody>\n",
       "</table>\n",
       "</div>"
      ],
      "text/plain": [
       "                    age       job   marital  education   default   balance  \\\n",
       "age            1.000000 -0.021500 -0.381485  -0.121613 -0.017885  0.083820   \n",
       "job           -0.021500  1.000000  0.069390   0.170160  0.008324  0.009797   \n",
       "marital       -0.381485  0.069390  1.000000   0.102714 -0.020745  0.024971   \n",
       "education     -0.121613  0.170160  0.102714   1.000000 -0.010534  0.057725   \n",
       "default       -0.017885  0.008324 -0.020745  -0.010534  1.000000 -0.070886   \n",
       "balance        0.083820  0.009797  0.024971   0.057725 -0.070886  1.000000   \n",
       "housing       -0.193888 -0.128353 -0.029851  -0.087070  0.006881 -0.050227   \n",
       "loan          -0.011250 -0.040245 -0.045210  -0.054086  0.063994 -0.071349   \n",
       "contact        0.015161 -0.074068 -0.068236  -0.110554  0.008448 -0.009665   \n",
       "day           -0.017853  0.012865  0.008794   0.014926 -0.013261 -0.008677   \n",
       "month         -0.040714 -0.096613 -0.035855  -0.050086  0.014297  0.023113   \n",
       "duration      -0.002367 -0.006739  0.006619  -0.014878 -0.011615 -0.015950   \n",
       "campaign      -0.005148 -0.002739  0.005915  -0.001723 -0.012348 -0.009976   \n",
       "pdays         -0.008894 -0.022760  0.017050   0.012077 -0.026317  0.009437   \n",
       "previous      -0.003511  0.005029  0.038028   0.023983 -0.026656  0.026196   \n",
       "poutcome      -0.009320  0.013049 -0.027716  -0.032135  0.039032 -0.029268   \n",
       "loan_approval  0.045092  0.027401  0.015042   0.042987  0.001303  0.017905   \n",
       "\n",
       "                housing      loan   contact       day     month  duration  \\\n",
       "age           -0.193888 -0.011250  0.015161 -0.017853 -0.040714 -0.002367   \n",
       "job           -0.128353 -0.040245 -0.074068  0.012865 -0.096613 -0.006739   \n",
       "marital       -0.029851 -0.045210 -0.068236  0.008794 -0.035855  0.006619   \n",
       "education     -0.087070 -0.054086 -0.110554  0.014926 -0.050086 -0.014878   \n",
       "default        0.006881  0.063994  0.008448 -0.013261  0.014297 -0.011615   \n",
       "balance       -0.050227 -0.071349 -0.009665 -0.008677  0.023113 -0.015950   \n",
       "housing        1.000000  0.018451  0.196454 -0.031291  0.266630  0.015740   \n",
       "loan           0.018451  1.000000 -0.007319 -0.004879  0.016329 -0.004997   \n",
       "contact        0.196454 -0.007319  1.000000 -0.033807  0.370077 -0.011380   \n",
       "day           -0.031291 -0.004879 -0.033807  1.000000 -0.014795 -0.024629   \n",
       "month          0.266630  0.016329  0.370077 -0.014795  1.000000  0.000851   \n",
       "duration       0.015740 -0.004997 -0.011380 -0.024629  0.000851  1.000000   \n",
       "campaign      -0.003574  0.017120  0.012278  0.160706 -0.108915 -0.068382   \n",
       "pdays          0.116893 -0.031086 -0.243223 -0.094352  0.033292  0.010380   \n",
       "previous       0.038621 -0.022115 -0.187232 -0.059114  0.046899  0.018080   \n",
       "poutcome      -0.093093  0.027028  0.267173  0.073714 -0.030189  0.000478   \n",
       "loan_approval -0.104683 -0.070517 -0.133595 -0.011244 -0.040933  0.401118   \n",
       "\n",
       "               campaign     pdays  previous  poutcome  loan_approval  \n",
       "age           -0.005148 -0.008894 -0.003511 -0.009320       0.045092  \n",
       "job           -0.002739 -0.022760  0.005029  0.013049       0.027401  \n",
       "marital        0.005915  0.017050  0.038028 -0.027716       0.015042  \n",
       "education     -0.001723  0.012077  0.023983 -0.032135       0.042987  \n",
       "default       -0.012348 -0.026317 -0.026656  0.039032       0.001303  \n",
       "balance       -0.009976  0.009437  0.026196 -0.029268       0.017905  \n",
       "housing       -0.003574  0.116893  0.038621 -0.093093      -0.104683  \n",
       "loan           0.017120 -0.031086 -0.022115  0.027028      -0.070517  \n",
       "contact        0.012278 -0.243223 -0.187232  0.267173      -0.133595  \n",
       "day            0.160706 -0.094352 -0.059114  0.073714      -0.011244  \n",
       "month         -0.108915  0.033292  0.046899 -0.030189      -0.040933  \n",
       "duration      -0.068382  0.010380  0.018080  0.000478       0.401118  \n",
       "campaign       1.000000 -0.093137 -0.067833  0.110703      -0.061147  \n",
       "pdays         -0.093137  1.000000  0.577562 -0.859245       0.104087  \n",
       "previous      -0.067833  0.577562  1.000000 -0.636372       0.116714  \n",
       "poutcome       0.110703 -0.859245 -0.636372  1.000000      -0.082632  \n",
       "loan_approval -0.061147  0.104087  0.116714 -0.082632       1.000000  "
      ]
     },
     "execution_count": 16,
     "metadata": {},
     "output_type": "execute_result"
    }
   ],
   "source": [
    "df.corr()"
   ]
  },
  {
   "cell_type": "code",
   "execution_count": 17,
   "id": "2e59b64d",
   "metadata": {
    "execution": {
     "iopub.execute_input": "2024-02-19T20:40:28.601333Z",
     "iopub.status.busy": "2024-02-19T20:40:28.601002Z",
     "iopub.status.idle": "2024-02-19T20:40:28.618832Z",
     "shell.execute_reply": "2024-02-19T20:40:28.617825Z"
    },
    "papermill": {
     "duration": 0.03292,
     "end_time": "2024-02-19T20:40:28.620573",
     "exception": false,
     "start_time": "2024-02-19T20:40:28.587653",
     "status": "completed"
    },
    "tags": []
   },
   "outputs": [
    {
     "data": {
      "text/html": [
       "<div>\n",
       "<style scoped>\n",
       "    .dataframe tbody tr th:only-of-type {\n",
       "        vertical-align: middle;\n",
       "    }\n",
       "\n",
       "    .dataframe tbody tr th {\n",
       "        vertical-align: top;\n",
       "    }\n",
       "\n",
       "    .dataframe thead th {\n",
       "        text-align: right;\n",
       "    }\n",
       "</style>\n",
       "<table border=\"1\" class=\"dataframe\">\n",
       "  <thead>\n",
       "    <tr style=\"text-align: right;\">\n",
       "      <th></th>\n",
       "      <th>age</th>\n",
       "      <th>job</th>\n",
       "      <th>marital</th>\n",
       "      <th>education</th>\n",
       "      <th>default</th>\n",
       "      <th>balance</th>\n",
       "      <th>housing</th>\n",
       "      <th>loan</th>\n",
       "      <th>contact</th>\n",
       "      <th>day</th>\n",
       "      <th>month</th>\n",
       "      <th>duration</th>\n",
       "      <th>campaign</th>\n",
       "      <th>pdays</th>\n",
       "      <th>previous</th>\n",
       "      <th>poutcome</th>\n",
       "    </tr>\n",
       "  </thead>\n",
       "  <tbody>\n",
       "    <tr>\n",
       "      <th>0</th>\n",
       "      <td>30</td>\n",
       "      <td>10</td>\n",
       "      <td>1</td>\n",
       "      <td>0</td>\n",
       "      <td>0</td>\n",
       "      <td>1787</td>\n",
       "      <td>0</td>\n",
       "      <td>0</td>\n",
       "      <td>0</td>\n",
       "      <td>19</td>\n",
       "      <td>10</td>\n",
       "      <td>79</td>\n",
       "      <td>1</td>\n",
       "      <td>-1</td>\n",
       "      <td>0</td>\n",
       "      <td>3</td>\n",
       "    </tr>\n",
       "    <tr>\n",
       "      <th>1</th>\n",
       "      <td>33</td>\n",
       "      <td>7</td>\n",
       "      <td>1</td>\n",
       "      <td>1</td>\n",
       "      <td>0</td>\n",
       "      <td>4789</td>\n",
       "      <td>1</td>\n",
       "      <td>1</td>\n",
       "      <td>0</td>\n",
       "      <td>11</td>\n",
       "      <td>8</td>\n",
       "      <td>220</td>\n",
       "      <td>1</td>\n",
       "      <td>339</td>\n",
       "      <td>4</td>\n",
       "      <td>0</td>\n",
       "    </tr>\n",
       "    <tr>\n",
       "      <th>2</th>\n",
       "      <td>35</td>\n",
       "      <td>4</td>\n",
       "      <td>2</td>\n",
       "      <td>2</td>\n",
       "      <td>0</td>\n",
       "      <td>1350</td>\n",
       "      <td>1</td>\n",
       "      <td>0</td>\n",
       "      <td>0</td>\n",
       "      <td>16</td>\n",
       "      <td>0</td>\n",
       "      <td>185</td>\n",
       "      <td>1</td>\n",
       "      <td>330</td>\n",
       "      <td>1</td>\n",
       "      <td>0</td>\n",
       "    </tr>\n",
       "    <tr>\n",
       "      <th>3</th>\n",
       "      <td>30</td>\n",
       "      <td>4</td>\n",
       "      <td>1</td>\n",
       "      <td>2</td>\n",
       "      <td>0</td>\n",
       "      <td>1476</td>\n",
       "      <td>1</td>\n",
       "      <td>1</td>\n",
       "      <td>2</td>\n",
       "      <td>3</td>\n",
       "      <td>6</td>\n",
       "      <td>199</td>\n",
       "      <td>4</td>\n",
       "      <td>-1</td>\n",
       "      <td>0</td>\n",
       "      <td>3</td>\n",
       "    </tr>\n",
       "    <tr>\n",
       "      <th>4</th>\n",
       "      <td>59</td>\n",
       "      <td>1</td>\n",
       "      <td>1</td>\n",
       "      <td>1</td>\n",
       "      <td>0</td>\n",
       "      <td>0</td>\n",
       "      <td>1</td>\n",
       "      <td>0</td>\n",
       "      <td>2</td>\n",
       "      <td>5</td>\n",
       "      <td>8</td>\n",
       "      <td>226</td>\n",
       "      <td>1</td>\n",
       "      <td>-1</td>\n",
       "      <td>0</td>\n",
       "      <td>3</td>\n",
       "    </tr>\n",
       "    <tr>\n",
       "      <th>...</th>\n",
       "      <td>...</td>\n",
       "      <td>...</td>\n",
       "      <td>...</td>\n",
       "      <td>...</td>\n",
       "      <td>...</td>\n",
       "      <td>...</td>\n",
       "      <td>...</td>\n",
       "      <td>...</td>\n",
       "      <td>...</td>\n",
       "      <td>...</td>\n",
       "      <td>...</td>\n",
       "      <td>...</td>\n",
       "      <td>...</td>\n",
       "      <td>...</td>\n",
       "      <td>...</td>\n",
       "      <td>...</td>\n",
       "    </tr>\n",
       "    <tr>\n",
       "      <th>4516</th>\n",
       "      <td>33</td>\n",
       "      <td>7</td>\n",
       "      <td>1</td>\n",
       "      <td>1</td>\n",
       "      <td>0</td>\n",
       "      <td>-333</td>\n",
       "      <td>1</td>\n",
       "      <td>0</td>\n",
       "      <td>0</td>\n",
       "      <td>30</td>\n",
       "      <td>5</td>\n",
       "      <td>329</td>\n",
       "      <td>5</td>\n",
       "      <td>-1</td>\n",
       "      <td>0</td>\n",
       "      <td>3</td>\n",
       "    </tr>\n",
       "    <tr>\n",
       "      <th>4517</th>\n",
       "      <td>57</td>\n",
       "      <td>6</td>\n",
       "      <td>1</td>\n",
       "      <td>2</td>\n",
       "      <td>1</td>\n",
       "      <td>-3313</td>\n",
       "      <td>1</td>\n",
       "      <td>1</td>\n",
       "      <td>2</td>\n",
       "      <td>9</td>\n",
       "      <td>8</td>\n",
       "      <td>153</td>\n",
       "      <td>1</td>\n",
       "      <td>-1</td>\n",
       "      <td>0</td>\n",
       "      <td>3</td>\n",
       "    </tr>\n",
       "    <tr>\n",
       "      <th>4518</th>\n",
       "      <td>57</td>\n",
       "      <td>9</td>\n",
       "      <td>1</td>\n",
       "      <td>1</td>\n",
       "      <td>0</td>\n",
       "      <td>295</td>\n",
       "      <td>0</td>\n",
       "      <td>0</td>\n",
       "      <td>0</td>\n",
       "      <td>19</td>\n",
       "      <td>1</td>\n",
       "      <td>151</td>\n",
       "      <td>11</td>\n",
       "      <td>-1</td>\n",
       "      <td>0</td>\n",
       "      <td>3</td>\n",
       "    </tr>\n",
       "    <tr>\n",
       "      <th>4519</th>\n",
       "      <td>28</td>\n",
       "      <td>1</td>\n",
       "      <td>1</td>\n",
       "      <td>1</td>\n",
       "      <td>0</td>\n",
       "      <td>1137</td>\n",
       "      <td>0</td>\n",
       "      <td>0</td>\n",
       "      <td>0</td>\n",
       "      <td>6</td>\n",
       "      <td>3</td>\n",
       "      <td>129</td>\n",
       "      <td>4</td>\n",
       "      <td>211</td>\n",
       "      <td>3</td>\n",
       "      <td>1</td>\n",
       "    </tr>\n",
       "    <tr>\n",
       "      <th>4520</th>\n",
       "      <td>44</td>\n",
       "      <td>2</td>\n",
       "      <td>2</td>\n",
       "      <td>2</td>\n",
       "      <td>0</td>\n",
       "      <td>1136</td>\n",
       "      <td>1</td>\n",
       "      <td>1</td>\n",
       "      <td>0</td>\n",
       "      <td>3</td>\n",
       "      <td>0</td>\n",
       "      <td>345</td>\n",
       "      <td>2</td>\n",
       "      <td>249</td>\n",
       "      <td>7</td>\n",
       "      <td>1</td>\n",
       "    </tr>\n",
       "  </tbody>\n",
       "</table>\n",
       "<p>4521 rows × 16 columns</p>\n",
       "</div>"
      ],
      "text/plain": [
       "      age  job  marital  education  default  balance  housing  loan  contact  \\\n",
       "0      30   10        1          0        0     1787        0     0        0   \n",
       "1      33    7        1          1        0     4789        1     1        0   \n",
       "2      35    4        2          2        0     1350        1     0        0   \n",
       "3      30    4        1          2        0     1476        1     1        2   \n",
       "4      59    1        1          1        0        0        1     0        2   \n",
       "...   ...  ...      ...        ...      ...      ...      ...   ...      ...   \n",
       "4516   33    7        1          1        0     -333        1     0        0   \n",
       "4517   57    6        1          2        1    -3313        1     1        2   \n",
       "4518   57    9        1          1        0      295        0     0        0   \n",
       "4519   28    1        1          1        0     1137        0     0        0   \n",
       "4520   44    2        2          2        0     1136        1     1        0   \n",
       "\n",
       "      day  month  duration  campaign  pdays  previous  poutcome  \n",
       "0      19     10        79         1     -1         0         3  \n",
       "1      11      8       220         1    339         4         0  \n",
       "2      16      0       185         1    330         1         0  \n",
       "3       3      6       199         4     -1         0         3  \n",
       "4       5      8       226         1     -1         0         3  \n",
       "...   ...    ...       ...       ...    ...       ...       ...  \n",
       "4516   30      5       329         5     -1         0         3  \n",
       "4517    9      8       153         1     -1         0         3  \n",
       "4518   19      1       151        11     -1         0         3  \n",
       "4519    6      3       129         4    211         3         1  \n",
       "4520    3      0       345         2    249         7         1  \n",
       "\n",
       "[4521 rows x 16 columns]"
      ]
     },
     "execution_count": 17,
     "metadata": {},
     "output_type": "execute_result"
    }
   ],
   "source": [
    "x=df.iloc[:,:-1]\n",
    "x"
   ]
  },
  {
   "cell_type": "code",
   "execution_count": 18,
   "id": "f8cfc140",
   "metadata": {
    "execution": {
     "iopub.execute_input": "2024-02-19T20:40:28.648294Z",
     "iopub.status.busy": "2024-02-19T20:40:28.647907Z",
     "iopub.status.idle": "2024-02-19T20:40:28.656609Z",
     "shell.execute_reply": "2024-02-19T20:40:28.655056Z"
    },
    "papermill": {
     "duration": 0.025359,
     "end_time": "2024-02-19T20:40:28.659091",
     "exception": false,
     "start_time": "2024-02-19T20:40:28.633732",
     "status": "completed"
    },
    "tags": []
   },
   "outputs": [
    {
     "data": {
      "text/plain": [
       "0       0\n",
       "1       0\n",
       "2       0\n",
       "3       0\n",
       "4       0\n",
       "       ..\n",
       "4516    0\n",
       "4517    0\n",
       "4518    0\n",
       "4519    0\n",
       "4520    0\n",
       "Name: loan_approval, Length: 4521, dtype: int64"
      ]
     },
     "execution_count": 18,
     "metadata": {},
     "output_type": "execute_result"
    }
   ],
   "source": [
    "y=df.iloc[:,-1]\n",
    "y"
   ]
  },
  {
   "cell_type": "code",
   "execution_count": 19,
   "id": "e0785098",
   "metadata": {
    "execution": {
     "iopub.execute_input": "2024-02-19T20:40:28.685789Z",
     "iopub.status.busy": "2024-02-19T20:40:28.685398Z",
     "iopub.status.idle": "2024-02-19T20:40:28.691611Z",
     "shell.execute_reply": "2024-02-19T20:40:28.690361Z"
    },
    "papermill": {
     "duration": 0.021796,
     "end_time": "2024-02-19T20:40:28.693334",
     "exception": false,
     "start_time": "2024-02-19T20:40:28.671538",
     "status": "completed"
    },
    "tags": []
   },
   "outputs": [
    {
     "name": "stdout",
     "output_type": "stream",
     "text": [
      "(4521, 16) (4521,)\n"
     ]
    }
   ],
   "source": [
    "print(x.shape, y.shape)"
   ]
  },
  {
   "cell_type": "code",
   "execution_count": 20,
   "id": "7be5f180",
   "metadata": {
    "execution": {
     "iopub.execute_input": "2024-02-19T20:40:28.772214Z",
     "iopub.status.busy": "2024-02-19T20:40:28.771909Z",
     "iopub.status.idle": "2024-02-19T20:40:28.789009Z",
     "shell.execute_reply": "2024-02-19T20:40:28.787049Z"
    },
    "papermill": {
     "duration": 0.033292,
     "end_time": "2024-02-19T20:40:28.791078",
     "exception": false,
     "start_time": "2024-02-19T20:40:28.757786",
     "status": "completed"
    },
    "tags": []
   },
   "outputs": [
    {
     "name": "stdout",
     "output_type": "stream",
     "text": [
      "Before oversampling:\n",
      "loan_approval\n",
      "0    4000\n",
      "1     521\n",
      "Name: count, dtype: int64\n",
      "After oversampling:\n",
      "loan_approval\n",
      "0    4000\n",
      "1    4000\n",
      "Name: count, dtype: int64\n"
     ]
    }
   ],
   "source": [
    "print(\"Before oversampling:\")\n",
    "print(y.value_counts())\n",
    "sm=RandomOverSampler()\n",
    "x,y=sm.fit_resample(x,y)\n",
    "print(\"After oversampling:\")\n",
    "print(y.value_counts())"
   ]
  },
  {
   "cell_type": "code",
   "execution_count": 21,
   "id": "7e7bef4b",
   "metadata": {
    "execution": {
     "iopub.execute_input": "2024-02-19T20:40:28.819382Z",
     "iopub.status.busy": "2024-02-19T20:40:28.819042Z",
     "iopub.status.idle": "2024-02-19T20:40:28.830776Z",
     "shell.execute_reply": "2024-02-19T20:40:28.829295Z"
    },
    "papermill": {
     "duration": 0.028821,
     "end_time": "2024-02-19T20:40:28.833297",
     "exception": false,
     "start_time": "2024-02-19T20:40:28.804476",
     "status": "completed"
    },
    "tags": []
   },
   "outputs": [
    {
     "data": {
      "text/plain": [
       "array([[0.16176471, 0.90909091, 0.5       , ..., 0.        , 0.        ,\n",
       "        1.        ],\n",
       "       [0.20588235, 0.63636364, 0.5       , ..., 0.38990826, 0.16      ,\n",
       "        0.        ],\n",
       "       [0.23529412, 0.36363636, 1.        , ..., 0.37958716, 0.04      ,\n",
       "        0.        ],\n",
       "       ...,\n",
       "       [0.5       , 0.63636364, 0.        , ..., 0.20068807, 0.28      ,\n",
       "        0.33333333],\n",
       "       [0.47058824, 0.54545455, 0.5       , ..., 0.        , 0.        ,\n",
       "        1.        ],\n",
       "       [0.48529412, 0.        , 1.        , ..., 0.        , 0.        ,\n",
       "        1.        ]])"
      ]
     },
     "execution_count": 21,
     "metadata": {},
     "output_type": "execute_result"
    }
   ],
   "source": [
    "#minmaxscaler\n",
    "ms=MinMaxScaler()\n",
    "x=ms.fit_transform(x)\n",
    "x"
   ]
  },
  {
   "cell_type": "code",
   "execution_count": 22,
   "id": "0fc98820",
   "metadata": {
    "execution": {
     "iopub.execute_input": "2024-02-19T20:40:28.860868Z",
     "iopub.status.busy": "2024-02-19T20:40:28.860495Z",
     "iopub.status.idle": "2024-02-19T20:40:28.867985Z",
     "shell.execute_reply": "2024-02-19T20:40:28.866612Z"
    },
    "papermill": {
     "duration": 0.024081,
     "end_time": "2024-02-19T20:40:28.870320",
     "exception": false,
     "start_time": "2024-02-19T20:40:28.846239",
     "status": "completed"
    },
    "tags": []
   },
   "outputs": [
    {
     "name": "stdout",
     "output_type": "stream",
     "text": [
      "Train set: (7200, 16) (7200,)\n",
      "Test set: (800, 16) (800,)\n"
     ]
    }
   ],
   "source": [
    "#splitting to test and train data\n",
    "X_train,X_test,y_train,y_test=train_test_split(x,y,test_size=0.1,random_state=4)\n",
    "print ('Train set:', X_train.shape,  y_train.shape)\n",
    "print ('Test set:', X_test.shape,  y_test.shape)"
   ]
  },
  {
   "cell_type": "markdown",
   "id": "3e60910e",
   "metadata": {
    "papermill": {
     "duration": 0.013079,
     "end_time": "2024-02-19T20:40:28.897027",
     "exception": false,
     "start_time": "2024-02-19T20:40:28.883948",
     "status": "completed"
    },
    "tags": []
   },
   "source": [
    "# Using Logistic Regression"
   ]
  },
  {
   "cell_type": "code",
   "execution_count": 23,
   "id": "d29636de",
   "metadata": {
    "execution": {
     "iopub.execute_input": "2024-02-19T20:40:28.925771Z",
     "iopub.status.busy": "2024-02-19T20:40:28.925413Z",
     "iopub.status.idle": "2024-02-19T20:40:28.950014Z",
     "shell.execute_reply": "2024-02-19T20:40:28.949179Z"
    },
    "papermill": {
     "duration": 0.042192,
     "end_time": "2024-02-19T20:40:28.952608",
     "exception": false,
     "start_time": "2024-02-19T20:40:28.910416",
     "status": "completed"
    },
    "tags": []
   },
   "outputs": [],
   "source": [
    "LR = LogisticRegression(C=0.011, solver='liblinear').fit(X_train,y_train)\n",
    "y_pred = LR.predict(X_test)"
   ]
  },
  {
   "cell_type": "code",
   "execution_count": 24,
   "id": "efe016c1",
   "metadata": {
    "execution": {
     "iopub.execute_input": "2024-02-19T20:40:28.989190Z",
     "iopub.status.busy": "2024-02-19T20:40:28.988074Z",
     "iopub.status.idle": "2024-02-19T20:40:29.000500Z",
     "shell.execute_reply": "2024-02-19T20:40:28.999594Z"
    },
    "papermill": {
     "duration": 0.033107,
     "end_time": "2024-02-19T20:40:29.002747",
     "exception": false,
     "start_time": "2024-02-19T20:40:28.969640",
     "status": "completed"
    },
    "tags": []
   },
   "outputs": [
    {
     "data": {
      "text/plain": [
       "array([0, 0, 0, 1, 1, 0, 0, 1, 1, 1, 1, 1, 0, 0, 1, 1, 1, 1, 0, 0, 1, 1,\n",
       "       1, 1, 1, 0, 1, 1, 0, 1, 1, 0, 1, 1, 1, 1, 1, 0, 0, 1, 0, 0, 0, 1,\n",
       "       0, 0, 1, 0, 0, 0, 0, 1, 1, 0, 0, 0, 1, 0, 1, 1, 0, 1, 1, 0, 1, 1,\n",
       "       0, 1, 1, 0, 0, 0, 0, 1, 0, 1, 0, 0, 0, 1, 0, 1, 1, 1, 0, 0, 1, 0,\n",
       "       1, 0, 1, 0, 1, 0, 0, 1, 1, 1, 0, 0, 0, 1, 0, 0, 0, 1, 0, 1, 1, 0,\n",
       "       1, 1, 1, 1, 0, 1, 1, 1, 0, 0, 1, 1, 1, 1, 1, 1, 1, 0, 1, 0, 1, 1,\n",
       "       1, 0, 0, 0, 1, 1, 1, 1, 0, 0, 0, 1, 1, 0, 1, 0, 1, 1, 1, 0, 1, 0,\n",
       "       1, 0, 0, 1, 1, 1, 1, 1, 1, 1, 1, 0, 1, 1, 1, 1, 1, 0, 1, 0, 1, 0,\n",
       "       1, 1, 1, 0, 0, 0, 1, 0, 0, 1, 1, 0, 1, 1, 1, 1, 1, 1, 0, 0, 0, 0,\n",
       "       0, 1, 0, 0, 0, 1, 0, 1, 1, 1, 1, 0, 0, 1, 1, 1, 1, 1, 1, 1, 1, 0,\n",
       "       0, 0, 1, 0, 1, 1, 1, 1, 0, 0, 1, 1, 0, 1, 1, 1, 1, 1, 1, 1, 1, 1,\n",
       "       0, 1, 1, 0, 1, 0, 1, 1, 1, 1, 1, 1, 1, 1, 1, 0, 1, 0, 1, 0, 0, 0,\n",
       "       0, 1, 0, 1, 1, 0, 0, 0, 1, 0, 1, 0, 1, 0, 0, 1, 0, 0, 0, 0, 1, 1,\n",
       "       1, 1, 0, 0, 0, 0, 0, 1, 0, 1, 1, 1, 0, 0, 1, 1, 1, 1, 0, 0, 0, 1,\n",
       "       1, 1, 0, 0, 1, 1, 0, 1, 0, 1, 0, 0, 1, 1, 1, 1, 1, 1, 1, 1, 0, 0,\n",
       "       1, 0, 1, 0, 0, 0, 1, 1, 0, 1, 0, 1, 1, 1, 1, 1, 0, 1, 0, 0, 0, 0,\n",
       "       1, 0, 1, 1, 1, 1, 1, 0, 0, 1, 1, 0, 1, 1, 0, 0, 0, 1, 1, 0, 0, 0,\n",
       "       1, 1, 1, 1, 1, 1, 0, 1, 0, 0, 0, 1, 0, 0, 0, 0, 1, 1, 1, 1, 1, 0,\n",
       "       1, 0, 0, 1, 1, 0, 1, 0, 1, 0, 0, 1, 1, 1, 0, 1, 0, 1, 1, 0, 1, 1,\n",
       "       1, 0, 0, 0, 1, 0, 0, 1, 1, 0, 1, 1, 1, 0, 1, 1, 1, 0, 0, 0, 1, 0,\n",
       "       1, 1, 1, 1, 1, 0, 0, 0, 0, 0, 1, 0, 1, 0, 1, 0, 0, 0, 1, 0, 1, 0,\n",
       "       1, 0, 0, 1, 0, 1, 1, 0, 1, 1, 1, 1, 1, 0, 1, 0, 1, 0, 0, 1, 0, 1,\n",
       "       0, 0, 1, 0, 1, 1, 0, 1, 1, 0, 0, 0, 0, 0, 1, 1, 1, 1, 1, 1, 1, 0,\n",
       "       1, 0, 0, 0, 1, 1, 0, 1, 1, 1, 0, 0, 1, 1, 1, 1, 1, 1, 1, 0, 1, 0,\n",
       "       1, 1, 1, 1, 1, 1, 1, 1, 1, 1, 1, 0, 0, 1, 0, 0, 1, 1, 0, 0, 1, 1,\n",
       "       0, 1, 0, 1, 1, 0, 0, 0, 1, 1, 0, 1, 0, 0, 0, 1, 1, 1, 1, 0, 1, 1,\n",
       "       1, 1, 0, 1, 1, 0, 1, 1, 1, 1, 1, 1, 1, 1, 0, 0, 0, 1, 0, 1, 0, 0,\n",
       "       0, 0, 0, 1, 0, 0, 0, 1, 1, 1, 1, 0, 1, 1, 0, 1, 1, 0, 1, 1, 0, 0,\n",
       "       1, 1, 1, 1, 0, 1, 0, 0, 1, 0, 1, 0, 1, 1, 0, 0, 1, 0, 1, 0, 1, 0,\n",
       "       0, 0, 1, 1, 0, 1, 1, 1, 1, 1, 0, 0, 1, 0, 0, 0, 1, 0, 0, 0, 1, 1,\n",
       "       1, 1, 0, 1, 0, 0, 1, 1, 0, 0, 0, 0, 1, 1, 1, 1, 0, 0, 0, 1, 1, 1,\n",
       "       0, 0, 0, 1, 0, 1, 0, 0, 0, 0, 1, 1, 0, 0, 1, 1, 1, 1, 0, 0, 0, 1,\n",
       "       0, 0, 1, 0, 0, 0, 0, 0, 0, 0, 1, 0, 0, 1, 1, 0, 1, 0, 1, 0, 1, 1,\n",
       "       0, 0, 1, 0, 1, 1, 1, 1, 1, 0, 1, 0, 0, 1, 1, 1, 0, 0, 0, 1, 1, 1,\n",
       "       0, 1, 1, 1, 1, 1, 1, 1, 1, 0, 0, 1, 1, 1, 1, 1, 0, 1, 0, 0, 0, 1,\n",
       "       0, 0, 1, 1, 1, 1, 0, 0, 1, 0, 1, 0, 0, 1, 1, 1, 0, 1, 1, 0, 1, 1,\n",
       "       1, 0, 0, 1, 1, 1, 0, 1])"
      ]
     },
     "execution_count": 24,
     "metadata": {},
     "output_type": "execute_result"
    }
   ],
   "source": [
    "y_pred"
   ]
  },
  {
   "cell_type": "code",
   "execution_count": 25,
   "id": "f8c955b1",
   "metadata": {
    "execution": {
     "iopub.execute_input": "2024-02-19T20:40:29.040032Z",
     "iopub.status.busy": "2024-02-19T20:40:29.038769Z",
     "iopub.status.idle": "2024-02-19T20:40:29.053156Z",
     "shell.execute_reply": "2024-02-19T20:40:29.051422Z"
    },
    "papermill": {
     "duration": 0.036381,
     "end_time": "2024-02-19T20:40:29.056313",
     "exception": false,
     "start_time": "2024-02-19T20:40:29.019932",
     "status": "completed"
    },
    "tags": []
   },
   "outputs": [
    {
     "name": "stdout",
     "output_type": "stream",
     "text": [
      "F1_score:0.6900\n",
      "Accuracy: 0.691250\n"
     ]
    }
   ],
   "source": [
    "LR_score=accuracy_score(y_test, y_pred)\n",
    "LR_F1_SCORE=f1_score(y_test, y_pred, average='weighted') \n",
    "print('F1_score:%.4f'%LR_F1_SCORE)\n",
    "print('Accuracy: %f' % accuracy_score(y_test, y_pred))"
   ]
  },
  {
   "cell_type": "code",
   "execution_count": 26,
   "id": "c30c7bd5",
   "metadata": {
    "execution": {
     "iopub.execute_input": "2024-02-19T20:40:29.087683Z",
     "iopub.status.busy": "2024-02-19T20:40:29.087272Z",
     "iopub.status.idle": "2024-02-19T20:40:29.099866Z",
     "shell.execute_reply": "2024-02-19T20:40:29.098880Z"
    },
    "papermill": {
     "duration": 0.029729,
     "end_time": "2024-02-19T20:40:29.101998",
     "exception": false,
     "start_time": "2024-02-19T20:40:29.072269",
     "status": "completed"
    },
    "tags": []
   },
   "outputs": [
    {
     "name": "stdout",
     "output_type": "stream",
     "text": [
      "              precision    recall  f1-score   support\n",
      "\n",
      "           0       0.63      0.70      0.67       349\n",
      "           1       0.75      0.68      0.71       451\n",
      "\n",
      "    accuracy                           0.69       800\n",
      "   macro avg       0.69      0.69      0.69       800\n",
      "weighted avg       0.70      0.69      0.69       800\n",
      "\n"
     ]
    }
   ],
   "source": [
    "print(classification_report(y_pred, y_test))"
   ]
  },
  {
   "cell_type": "code",
   "execution_count": 27,
   "id": "63c515a4",
   "metadata": {
    "execution": {
     "iopub.execute_input": "2024-02-19T20:40:29.131852Z",
     "iopub.status.busy": "2024-02-19T20:40:29.131045Z",
     "iopub.status.idle": "2024-02-19T20:40:29.348981Z",
     "shell.execute_reply": "2024-02-19T20:40:29.347653Z"
    },
    "papermill": {
     "duration": 0.235412,
     "end_time": "2024-02-19T20:40:29.351316",
     "exception": false,
     "start_time": "2024-02-19T20:40:29.115904",
     "status": "completed"
    },
    "tags": []
   },
   "outputs": [
    {
     "name": "stdout",
     "output_type": "stream",
     "text": [
      "Confusion matrix, without normalization\n",
      "[[246 144]\n",
      " [103 307]]\n"
     ]
    },
    {
     "data": {
      "image/png": "[encoded data removed]",
      "text/plain": [
       "<Figure size 640x480 with 2 Axes>"
      ]
     },
     "metadata": {},
     "output_type": "display_data"
    }
   ],
   "source": [
    "cnf_matrix = confusion_matrix(y_test, y_pred)\n",
    "class_names = ['Approval', 'Not Approval']\n",
    "plot_confusion_matrix(cnf_matrix, classes=class_names, normalize=False, title='Confusion Matrix')\n",
    "plt.show()"
   ]
  },
  {
   "cell_type": "markdown",
   "id": "3b2a220b",
   "metadata": {
    "papermill": {
     "duration": 0.014422,
     "end_time": "2024-02-19T20:40:29.379646",
     "exception": false,
     "start_time": "2024-02-19T20:40:29.365224",
     "status": "completed"
    },
    "tags": []
   },
   "source": [
    "# Using SVM"
   ]
  },
  {
   "cell_type": "code",
   "execution_count": 28,
   "id": "275d1ee9",
   "metadata": {
    "execution": {
     "iopub.execute_input": "2024-02-19T20:40:29.409281Z",
     "iopub.status.busy": "2024-02-19T20:40:29.408936Z",
     "iopub.status.idle": "2024-02-19T20:40:30.565348Z",
     "shell.execute_reply": "2024-02-19T20:40:30.564303Z"
    },
    "papermill": {
     "duration": 1.173655,
     "end_time": "2024-02-19T20:40:30.567253",
     "exception": false,
     "start_time": "2024-02-19T20:40:29.393598",
     "status": "completed"
    },
    "tags": []
   },
   "outputs": [
    {
     "data": {
      "text/html": [
       "<style>#sk-container-id-1 {color: black;background-color: white;}#sk-container-id-1 pre{padding: 0;}#sk-container-id-1 div.sk-toggleable {background-color: white;}#sk-container-id-1 label.sk-toggleable__label {cursor: pointer;display: block;width: 100%;margin-bottom: 0;padding: 0.3em;box-sizing: border-box;text-align: center;}#sk-container-id-1 label.sk-toggleable__label-arrow:before {content: \"▸\";float: left;margin-right: 0.25em;color: #696969;}#sk-container-id-1 label.sk-toggleable__label-arrow:hover:before {color: black;}#sk-container-id-1 div.sk-estimator:hover label.sk-toggleable__label-arrow:before {color: black;}#sk-container-id-1 div.sk-toggleable__content {max-height: 0;max-width: 0;overflow: hidden;text-align: left;background-color: #f0f8ff;}#sk-container-id-1 div.sk-toggleable__content pre {margin: 0.2em;color: black;border-radius: 0.25em;background-color: #f0f8ff;}#sk-container-id-1 input.sk-toggleable__control:checked~div.sk-toggleable__content {max-height: 200px;max-width: 100%;overflow: auto;}#sk-container-id-1 input.sk-toggleable__control:checked~label.sk-toggleable__label-arrow:before {content: \"▾\";}#sk-container-id-1 div.sk-estimator input.sk-toggleable__control:checked~label.sk-toggleable__label {background-color: #d4ebff;}#sk-container-id-1 div.sk-label input.sk-toggleable__control:checked~label.sk-toggleable__label {background-color: #d4ebff;}#sk-container-id-1 input.sk-hidden--visually {border: 0;clip: rect(1px 1px 1px 1px);clip: rect(1px, 1px, 1px, 1px);height: 1px;margin: -1px;overflow: hidden;padding: 0;position: absolute;width: 1px;}#sk-container-id-1 div.sk-estimator {font-family: monospace;background-color: #f0f8ff;border: 1px dotted black;border-radius: 0.25em;box-sizing: border-box;margin-bottom: 0.5em;}#sk-container-id-1 div.sk-estimator:hover {background-color: #d4ebff;}#sk-container-id-1 div.sk-parallel-item::after {content: \"\";width: 100%;border-bottom: 1px solid gray;flex-grow: 1;}#sk-container-id-1 div.sk-label:hover label.sk-toggleable__label {background-color: #d4ebff;}#sk-container-id-1 div.sk-serial::before {content: \"\";position: absolute;border-left: 1px solid gray;box-sizing: border-box;top: 0;bottom: 0;left: 50%;z-index: 0;}#sk-container-id-1 div.sk-serial {display: flex;flex-direction: column;align-items: center;background-color: white;padding-right: 0.2em;padding-left: 0.2em;position: relative;}#sk-container-id-1 div.sk-item {position: relative;z-index: 1;}#sk-container-id-1 div.sk-parallel {display: flex;align-items: stretch;justify-content: center;background-color: white;position: relative;}#sk-container-id-1 div.sk-item::before, #sk-container-id-1 div.sk-parallel-item::before {content: \"\";position: absolute;border-left: 1px solid gray;box-sizing: border-box;top: 0;bottom: 0;left: 50%;z-index: -1;}#sk-container-id-1 div.sk-parallel-item {display: flex;flex-direction: column;z-index: 1;position: relative;background-color: white;}#sk-container-id-1 div.sk-parallel-item:first-child::after {align-self: flex-end;width: 50%;}#sk-container-id-1 div.sk-parallel-item:last-child::after {align-self: flex-start;width: 50%;}#sk-container-id-1 div.sk-parallel-item:only-child::after {width: 0;}#sk-container-id-1 div.sk-dashed-wrapped {border: 1px dashed gray;margin: 0 0.4em 0.5em 0.4em;box-sizing: border-box;padding-bottom: 0.4em;background-color: white;}#sk-container-id-1 div.sk-label label {font-family: monospace;font-weight: bold;display: inline-block;line-height: 1.2em;}#sk-container-id-1 div.sk-label-container {text-align: center;}#sk-container-id-1 div.sk-container {/* jupyter's `normalize.less` sets `[hidden] { display: none; }` but bootstrap.min.css set `[hidden] { display: none !important; }` so we also need the `!important` here to be able to override the default hidden behavior on the sphinx rendered scikit-learn.org. See: https://github.com/scikit-learn/scikit-learn/issues/21755 */display: inline-block !important;position: relative;}#sk-container-id-1 div.sk-text-repr-fallback {display: none;}</style><div id=\"sk-container-id-1\" class=\"sk-top-container\"><div class=\"sk-text-repr-fallback\"><pre>SVC(C=10, gamma=1)</pre><b>In a Jupyter environment, please rerun this cell to show the HTML representation or trust the notebook. <br />On GitHub, the HTML representation is unable to render, please try loading this page with nbviewer.org.</b></div><div class=\"sk-container\" hidden><div class=\"sk-item\"><div class=\"sk-estimator sk-toggleable\"><input class=\"sk-toggleable__control sk-hidden--visually\" id=\"sk-estimator-id-1\" type=\"checkbox\" checked><label for=\"sk-estimator-id-1\" class=\"sk-toggleable__label sk-toggleable__label-arrow\">SVC</label><div class=\"sk-toggleable__content\"><pre>SVC(C=10, gamma=1)</pre></div></div></div></div></div>"
      ],
      "text/plain": [
       "SVC(C=10, gamma=1)"
      ]
     },
     "execution_count": 28,
     "metadata": {},
     "output_type": "execute_result"
    }
   ],
   "source": [
    "clf = svm.SVC(C=10, gamma =1,kernel='rbf')\n",
    "clf.fit(X_train, y_train) "
   ]
  },
  {
   "cell_type": "code",
   "execution_count": 29,
   "id": "d128f51b",
   "metadata": {
    "execution": {
     "iopub.execute_input": "2024-02-19T20:40:30.598245Z",
     "iopub.status.busy": "2024-02-19T20:40:30.597685Z",
     "iopub.status.idle": "2024-02-19T20:40:30.709084Z",
     "shell.execute_reply": "2024-02-19T20:40:30.707679Z"
    },
    "papermill": {
     "duration": 0.130022,
     "end_time": "2024-02-19T20:40:30.711920",
     "exception": false,
     "start_time": "2024-02-19T20:40:30.581898",
     "status": "completed"
    },
    "tags": []
   },
   "outputs": [
    {
     "data": {
      "text/plain": [
       "array([0, 1, 1, 1, 1, 1, 1, 1, 1, 1, 1, 1, 0, 0, 1, 1, 0, 0, 1, 0, 1, 1,\n",
       "       1, 1, 1, 0, 1, 1, 1, 1, 1, 1, 0, 1, 1, 1, 1, 0, 0, 1, 0, 0, 0, 0,\n",
       "       0, 1, 1, 0, 0, 0, 0, 1, 0, 0, 0, 0, 1, 0, 1, 0, 0, 1, 0, 1, 1, 1,\n",
       "       0, 1, 1, 0, 0, 0, 1, 1, 1, 0, 0, 0, 0, 0, 1, 1, 0, 1, 0, 0, 0, 1,\n",
       "       1, 0, 1, 1, 1, 1, 0, 1, 1, 0, 0, 0, 0, 1, 1, 1, 0, 1, 0, 1, 1, 0,\n",
       "       0, 1, 1, 1, 0, 0, 0, 1, 1, 0, 1, 1, 1, 1, 0, 1, 1, 0, 1, 0, 1, 1,\n",
       "       1, 0, 1, 0, 0, 1, 1, 1, 1, 0, 0, 1, 1, 0, 1, 0, 1, 0, 1, 0, 1, 1,\n",
       "       0, 0, 0, 1, 0, 0, 0, 0, 0, 1, 1, 1, 1, 1, 1, 1, 1, 0, 1, 0, 1, 1,\n",
       "       1, 1, 1, 1, 0, 0, 1, 0, 0, 1, 1, 0, 0, 1, 0, 0, 1, 1, 0, 0, 1, 0,\n",
       "       0, 1, 0, 0, 0, 1, 0, 1, 1, 0, 1, 0, 0, 1, 1, 1, 1, 1, 0, 1, 1, 0,\n",
       "       0, 0, 1, 1, 0, 0, 0, 1, 1, 1, 1, 1, 0, 1, 1, 1, 0, 0, 0, 1, 0, 1,\n",
       "       0, 1, 1, 0, 1, 1, 0, 0, 0, 1, 1, 0, 1, 0, 1, 0, 1, 0, 0, 0, 0, 0,\n",
       "       1, 1, 0, 0, 1, 0, 1, 0, 1, 0, 1, 0, 1, 1, 0, 1, 0, 0, 1, 1, 1, 1,\n",
       "       1, 1, 0, 1, 0, 0, 0, 1, 1, 1, 1, 1, 0, 0, 0, 1, 0, 0, 0, 0, 0, 1,\n",
       "       1, 1, 0, 0, 0, 0, 0, 1, 0, 0, 1, 1, 1, 0, 1, 1, 1, 1, 1, 1, 0, 0,\n",
       "       1, 1, 1, 0, 0, 1, 1, 1, 1, 1, 0, 1, 1, 1, 0, 1, 1, 1, 0, 0, 1, 0,\n",
       "       1, 1, 1, 1, 1, 0, 1, 0, 0, 1, 1, 0, 1, 1, 0, 0, 0, 1, 1, 0, 0, 0,\n",
       "       1, 0, 1, 1, 0, 0, 1, 0, 1, 0, 0, 1, 0, 1, 0, 1, 1, 1, 1, 1, 1, 0,\n",
       "       1, 0, 0, 0, 1, 1, 1, 0, 1, 0, 0, 1, 0, 1, 1, 1, 0, 0, 1, 0, 0, 0,\n",
       "       1, 0, 0, 0, 0, 1, 0, 1, 1, 1, 1, 1, 1, 0, 1, 1, 0, 0, 1, 0, 0, 1,\n",
       "       1, 1, 1, 1, 1, 1, 0, 0, 0, 0, 1, 0, 1, 1, 1, 0, 1, 0, 0, 0, 1, 1,\n",
       "       0, 0, 1, 1, 0, 1, 0, 0, 1, 0, 1, 0, 1, 0, 1, 0, 1, 0, 0, 1, 1, 1,\n",
       "       0, 0, 1, 1, 1, 1, 1, 1, 1, 0, 0, 0, 0, 0, 1, 0, 0, 1, 1, 1, 0, 0,\n",
       "       0, 0, 0, 0, 1, 0, 1, 1, 0, 1, 1, 1, 1, 0, 1, 1, 1, 1, 1, 0, 0, 0,\n",
       "       1, 1, 1, 1, 1, 1, 1, 0, 1, 0, 1, 1, 0, 0, 1, 0, 1, 1, 1, 1, 1, 1,\n",
       "       0, 1, 0, 1, 1, 1, 0, 0, 1, 1, 0, 0, 0, 0, 1, 1, 1, 1, 0, 0, 1, 1,\n",
       "       0, 1, 0, 1, 1, 1, 0, 0, 1, 1, 1, 1, 1, 1, 1, 0, 0, 1, 0, 1, 0, 1,\n",
       "       0, 0, 0, 0, 0, 0, 0, 1, 1, 1, 1, 1, 0, 1, 0, 0, 1, 0, 1, 1, 1, 1,\n",
       "       1, 1, 0, 1, 0, 1, 0, 1, 1, 1, 1, 1, 1, 0, 0, 1, 1, 0, 1, 1, 1, 0,\n",
       "       1, 0, 0, 1, 0, 0, 0, 1, 1, 1, 0, 0, 1, 0, 0, 0, 0, 0, 0, 0, 1, 1,\n",
       "       1, 1, 1, 1, 0, 0, 1, 1, 1, 0, 0, 0, 0, 1, 0, 1, 0, 1, 0, 1, 0, 1,\n",
       "       0, 0, 0, 1, 0, 1, 1, 0, 1, 1, 1, 1, 0, 1, 0, 1, 1, 1, 1, 0, 0, 1,\n",
       "       1, 0, 0, 1, 0, 1, 1, 1, 0, 0, 1, 0, 1, 1, 1, 1, 1, 1, 1, 1, 1, 1,\n",
       "       0, 0, 1, 0, 1, 1, 0, 1, 1, 0, 0, 0, 0, 1, 1, 1, 0, 1, 0, 1, 0, 0,\n",
       "       0, 1, 1, 1, 0, 1, 0, 1, 1, 1, 0, 1, 1, 1, 0, 1, 0, 1, 0, 0, 0, 1,\n",
       "       0, 1, 0, 1, 0, 1, 1, 0, 1, 0, 0, 0, 0, 1, 0, 1, 0, 0, 1, 0, 0, 0,\n",
       "       1, 1, 1, 1, 1, 1, 0, 0])"
      ]
     },
     "execution_count": 29,
     "metadata": {},
     "output_type": "execute_result"
    }
   ],
   "source": [
    "y_pred = clf.predict(X_test)\n",
    "y_pred "
   ]
  },
  {
   "cell_type": "code",
   "execution_count": 30,
   "id": "7e68051d",
   "metadata": {
    "execution": {
     "iopub.execute_input": "2024-02-19T20:40:30.745971Z",
     "iopub.status.busy": "2024-02-19T20:40:30.745559Z",
     "iopub.status.idle": "2024-02-19T20:40:30.758044Z",
     "shell.execute_reply": "2024-02-19T20:40:30.756506Z"
    },
    "papermill": {
     "duration": 0.031082,
     "end_time": "2024-02-19T20:40:30.760820",
     "exception": false,
     "start_time": "2024-02-19T20:40:30.729738",
     "status": "completed"
    },
    "tags": []
   },
   "outputs": [
    {
     "name": "stdout",
     "output_type": "stream",
     "text": [
      "F1_score:0.9010\n",
      "Accuracy: 0.901250\n"
     ]
    }
   ],
   "source": [
    "SVM_score=accuracy_score(y_test, y_pred)\n",
    "SVM_F1_SCORE=f1_score(y_test, y_pred, average='weighted') \n",
    "print('F1_score:%.4f'%SVM_F1_SCORE)\n",
    "print('Accuracy: %f' % accuracy_score(y_test, y_pred))"
   ]
  },
  {
   "cell_type": "code",
   "execution_count": 31,
   "id": "6560d12a",
   "metadata": {
    "execution": {
     "iopub.execute_input": "2024-02-19T20:40:30.792744Z",
     "iopub.status.busy": "2024-02-19T20:40:30.792136Z",
     "iopub.status.idle": "2024-02-19T20:40:30.804267Z",
     "shell.execute_reply": "2024-02-19T20:40:30.803294Z"
    },
    "papermill": {
     "duration": 0.029731,
     "end_time": "2024-02-19T20:40:30.806334",
     "exception": false,
     "start_time": "2024-02-19T20:40:30.776603",
     "status": "completed"
    },
    "tags": []
   },
   "outputs": [
    {
     "name": "stdout",
     "output_type": "stream",
     "text": [
      "              precision    recall  f1-score   support\n",
      "\n",
      "           0       0.86      0.94      0.89       357\n",
      "           1       0.94      0.87      0.91       443\n",
      "\n",
      "    accuracy                           0.90       800\n",
      "   macro avg       0.90      0.90      0.90       800\n",
      "weighted avg       0.90      0.90      0.90       800\n",
      "\n"
     ]
    }
   ],
   "source": [
    "print(classification_report(y_pred, y_test))"
   ]
  },
  {
   "cell_type": "code",
   "execution_count": 32,
   "id": "431435a4",
   "metadata": {
    "execution": {
     "iopub.execute_input": "2024-02-19T20:40:30.838573Z",
     "iopub.status.busy": "2024-02-19T20:40:30.838233Z",
     "iopub.status.idle": "2024-02-19T20:40:31.046274Z",
     "shell.execute_reply": "2024-02-19T20:40:31.044684Z"
    },
    "papermill": {
     "duration": 0.22639,
     "end_time": "2024-02-19T20:40:31.048257",
     "exception": false,
     "start_time": "2024-02-19T20:40:30.821867",
     "status": "completed"
    },
    "tags": []
   },
   "outputs": [
    {
     "name": "stdout",
     "output_type": "stream",
     "text": [
      "Confusion matrix, without normalization\n",
      "[[334  56]\n",
      " [ 23 387]]\n"
     ]
    },
    {
     "data": {
      "image/png": "[encoded data removed]",
      "text/plain": [
       "<Figure size 640x480 with 2 Axes>"
      ]
     },
     "metadata": {},
     "output_type": "display_data"
    }
   ],
   "source": [
    "cnf_matrix = confusion_matrix(y_test, y_pred)\n",
    "class_names = ['Approval', 'Not Approval']\n",
    "plot_confusion_matrix(cnf_matrix, classes=class_names, normalize=False, title='Confusion Matrix')\n",
    "plt.show()"
   ]
  },
  {
   "cell_type": "markdown",
   "id": "097850fe",
   "metadata": {
    "papermill": {
     "duration": 0.014832,
     "end_time": "2024-02-19T20:40:31.080893",
     "exception": false,
     "start_time": "2024-02-19T20:40:31.066061",
     "status": "completed"
    },
    "tags": []
   },
   "source": [
    "# Using KNN"
   ]
  },
  {
   "cell_type": "code",
   "execution_count": 33,
   "id": "bcd4e1a8",
   "metadata": {
    "execution": {
     "iopub.execute_input": "2024-02-19T20:40:31.111882Z",
     "iopub.status.busy": "2024-02-19T20:40:31.111328Z",
     "iopub.status.idle": "2024-02-19T20:40:31.121930Z",
     "shell.execute_reply": "2024-02-19T20:40:31.121277Z"
    },
    "papermill": {
     "duration": 0.028044,
     "end_time": "2024-02-19T20:40:31.123627",
     "exception": false,
     "start_time": "2024-02-19T20:40:31.095583",
     "status": "completed"
    },
    "tags": []
   },
   "outputs": [
    {
     "data": {
      "text/plain": [
       "array([[ 0.61106947,  0.15066669,  1.33633826, -1.68471564, -0.13018891,\n",
       "         8.74649931, -1.02020406, -0.37940297,  1.78192622,  0.13366449,\n",
       "         0.18145402, -0.8329275 , -0.57943651, -0.48128414, -0.41862733,\n",
       "         0.53102431],\n",
       "       [-0.66447708,  1.39720523, -0.26061368, -0.34394493, -0.13018891,\n",
       "        -0.53691493,  0.98019606, -0.37940297, -0.62247198,  1.59385065,\n",
       "        -1.39298432, -0.77252581,  0.52845308, -0.48128414, -0.41862733,\n",
       "         0.53102431],\n",
       "       [-0.66447708,  1.39720523,  1.33633826, -0.34394493, -0.13018891,\n",
       "        -0.53116312, -1.02020406, -0.37940297, -0.62247198, -0.35306423,\n",
       "        -1.39298432,  1.62706864, -0.57943651, -0.48128414, -0.41862733,\n",
       "         0.53102431],\n",
       "       [-0.23929489,  1.39720523, -0.26061368,  2.33759649, -0.13018891,\n",
       "        -0.23530462, -1.02020406, -0.37940297,  1.78192622,  1.71553283,\n",
       "         0.81122936,  1.17405596, -0.21013998, -0.48128414, -0.41862733,\n",
       "         0.53102431],\n",
       "       [-0.40936777, -0.78423721,  1.33633826, -0.34394493, -0.13018891,\n",
       "         6.81569007,  0.98019606, -0.37940297,  0.57972712, -1.44820384,\n",
       "         0.81122936, -0.77527134, -0.57943651, -0.48128414, -0.41862733,\n",
       "         0.53102431]])"
      ]
     },
     "execution_count": 33,
     "metadata": {},
     "output_type": "execute_result"
    }
   ],
   "source": [
    "x_train_norm = preprocessing.StandardScaler().fit(X_train).transform(X_train)\n",
    "x_train_norm[0:5]"
   ]
  },
  {
   "cell_type": "code",
   "execution_count": 34,
   "id": "33052738",
   "metadata": {
    "execution": {
     "iopub.execute_input": "2024-02-19T20:40:31.155881Z",
     "iopub.status.busy": "2024-02-19T20:40:31.155493Z",
     "iopub.status.idle": "2024-02-19T20:40:31.163895Z",
     "shell.execute_reply": "2024-02-19T20:40:31.162697Z"
    },
    "papermill": {
     "duration": 0.027459,
     "end_time": "2024-02-19T20:40:31.166175",
     "exception": false,
     "start_time": "2024-02-19T20:40:31.138716",
     "status": "completed"
    },
    "tags": []
   },
   "outputs": [
    {
     "data": {
      "text/html": [
       "<style>#sk-container-id-2 {color: black;background-color: white;}#sk-container-id-2 pre{padding: 0;}#sk-container-id-2 div.sk-toggleable {background-color: white;}#sk-container-id-2 label.sk-toggleable__label {cursor: pointer;display: block;width: 100%;margin-bottom: 0;padding: 0.3em;box-sizing: border-box;text-align: center;}#sk-container-id-2 label.sk-toggleable__label-arrow:before {content: \"▸\";float: left;margin-right: 0.25em;color: #696969;}#sk-container-id-2 label.sk-toggleable__label-arrow:hover:before {color: black;}#sk-container-id-2 div.sk-estimator:hover label.sk-toggleable__label-arrow:before {color: black;}#sk-container-id-2 div.sk-toggleable__content {max-height: 0;max-width: 0;overflow: hidden;text-align: left;background-color: #f0f8ff;}#sk-container-id-2 div.sk-toggleable__content pre {margin: 0.2em;color: black;border-radius: 0.25em;background-color: #f0f8ff;}#sk-container-id-2 input.sk-toggleable__control:checked~div.sk-toggleable__content {max-height: 200px;max-width: 100%;overflow: auto;}#sk-container-id-2 input.sk-toggleable__control:checked~label.sk-toggleable__label-arrow:before {content: \"▾\";}#sk-container-id-2 div.sk-estimator input.sk-toggleable__control:checked~label.sk-toggleable__label {background-color: #d4ebff;}#sk-container-id-2 div.sk-label input.sk-toggleable__control:checked~label.sk-toggleable__label {background-color: #d4ebff;}#sk-container-id-2 input.sk-hidden--visually {border: 0;clip: rect(1px 1px 1px 1px);clip: rect(1px, 1px, 1px, 1px);height: 1px;margin: -1px;overflow: hidden;padding: 0;position: absolute;width: 1px;}#sk-container-id-2 div.sk-estimator {font-family: monospace;background-color: #f0f8ff;border: 1px dotted black;border-radius: 0.25em;box-sizing: border-box;margin-bottom: 0.5em;}#sk-container-id-2 div.sk-estimator:hover {background-color: #d4ebff;}#sk-container-id-2 div.sk-parallel-item::after {content: \"\";width: 100%;border-bottom: 1px solid gray;flex-grow: 1;}#sk-container-id-2 div.sk-label:hover label.sk-toggleable__label {background-color: #d4ebff;}#sk-container-id-2 div.sk-serial::before {content: \"\";position: absolute;border-left: 1px solid gray;box-sizing: border-box;top: 0;bottom: 0;left: 50%;z-index: 0;}#sk-container-id-2 div.sk-serial {display: flex;flex-direction: column;align-items: center;background-color: white;padding-right: 0.2em;padding-left: 0.2em;position: relative;}#sk-container-id-2 div.sk-item {position: relative;z-index: 1;}#sk-container-id-2 div.sk-parallel {display: flex;align-items: stretch;justify-content: center;background-color: white;position: relative;}#sk-container-id-2 div.sk-item::before, #sk-container-id-2 div.sk-parallel-item::before {content: \"\";position: absolute;border-left: 1px solid gray;box-sizing: border-box;top: 0;bottom: 0;left: 50%;z-index: -1;}#sk-container-id-2 div.sk-parallel-item {display: flex;flex-direction: column;z-index: 1;position: relative;background-color: white;}#sk-container-id-2 div.sk-parallel-item:first-child::after {align-self: flex-end;width: 50%;}#sk-container-id-2 div.sk-parallel-item:last-child::after {align-self: flex-start;width: 50%;}#sk-container-id-2 div.sk-parallel-item:only-child::after {width: 0;}#sk-container-id-2 div.sk-dashed-wrapped {border: 1px dashed gray;margin: 0 0.4em 0.5em 0.4em;box-sizing: border-box;padding-bottom: 0.4em;background-color: white;}#sk-container-id-2 div.sk-label label {font-family: monospace;font-weight: bold;display: inline-block;line-height: 1.2em;}#sk-container-id-2 div.sk-label-container {text-align: center;}#sk-container-id-2 div.sk-container {/* jupyter's `normalize.less` sets `[hidden] { display: none; }` but bootstrap.min.css set `[hidden] { display: none !important; }` so we also need the `!important` here to be able to override the default hidden behavior on the sphinx rendered scikit-learn.org. See: https://github.com/scikit-learn/scikit-learn/issues/21755 */display: inline-block !important;position: relative;}#sk-container-id-2 div.sk-text-repr-fallback {display: none;}</style><div id=\"sk-container-id-2\" class=\"sk-top-container\"><div class=\"sk-text-repr-fallback\"><pre>KNeighborsClassifier(n_neighbors=3)</pre><b>In a Jupyter environment, please rerun this cell to show the HTML representation or trust the notebook. <br />On GitHub, the HTML representation is unable to render, please try loading this page with nbviewer.org.</b></div><div class=\"sk-container\" hidden><div class=\"sk-item\"><div class=\"sk-estimator sk-toggleable\"><input class=\"sk-toggleable__control sk-hidden--visually\" id=\"sk-estimator-id-2\" type=\"checkbox\" checked><label for=\"sk-estimator-id-2\" class=\"sk-toggleable__label sk-toggleable__label-arrow\">KNeighborsClassifier</label><div class=\"sk-toggleable__content\"><pre>KNeighborsClassifier(n_neighbors=3)</pre></div></div></div></div></div>"
      ],
      "text/plain": [
       "KNeighborsClassifier(n_neighbors=3)"
      ]
     },
     "execution_count": 34,
     "metadata": {},
     "output_type": "execute_result"
    }
   ],
   "source": [
    "k = 3\n",
    "#Train Model and Predict  \n",
    "neigh = KNeighborsClassifier(n_neighbors = k).fit(x_train_norm,y_train)\n",
    "neigh"
   ]
  },
  {
   "cell_type": "code",
   "execution_count": 35,
   "id": "c1dbf2d7",
   "metadata": {
    "execution": {
     "iopub.execute_input": "2024-02-19T20:40:31.197333Z",
     "iopub.status.busy": "2024-02-19T20:40:31.197003Z",
     "iopub.status.idle": "2024-02-19T20:40:31.204822Z",
     "shell.execute_reply": "2024-02-19T20:40:31.204005Z"
    },
    "papermill": {
     "duration": 0.02546,
     "end_time": "2024-02-19T20:40:31.206641",
     "exception": false,
     "start_time": "2024-02-19T20:40:31.181181",
     "status": "completed"
    },
    "tags": []
   },
   "outputs": [
    {
     "data": {
      "text/plain": [
       "array([[ 0.11219724, -1.14084012, -1.84127462, -1.7588306 , -0.12340351,\n",
       "        -0.56588679,  1.0100505 , -0.3560345 ,  1.78274437, -0.83939771,\n",
       "         0.83577167, -0.77934567, -0.55877407, -0.48748332, -0.39970034,\n",
       "         0.5177206 ],\n",
       "       [ 1.14786404,  0.10215899, -1.84127462, -0.39009083, -0.12340351,\n",
       "         0.09015794, -0.9900495 ,  2.80871659,  1.78274437,  0.35632552,\n",
       "         0.2284898 ,  1.69351255, -0.55877407, -0.48748332, -0.39970034,\n",
       "         0.5177206 ],\n",
       "       [-0.75085843, -0.20859079, -0.24882089,  0.97864893, -0.12340351,\n",
       "         0.01816871,  1.0100505 , -0.3560345 ,  1.78274437,  0.35632552,\n",
       "        -1.28971487,  0.25669195, -0.55877407, -0.48748332, -0.39970034,\n",
       "         0.5177206 ],\n",
       "       [ 0.02589167, -0.20859079, -0.24882089,  0.97864893, -0.12340351,\n",
       "        -0.07053231, -0.9900495 , -0.3560345 ,  0.58526704, -0.95897003,\n",
       "         1.74669448, -0.02685519, -0.20871984, -0.48748332, -0.39970034,\n",
       "         0.5177206 ],\n",
       "       [ 0.11219724, -1.4515899 , -0.24882089, -0.39009083, -0.12340351,\n",
       "        -0.53032068, -0.9900495 , -0.3560345 , -0.61221028,  0.35632552,\n",
       "        -1.28971487,  0.51297494, -0.55877407,  0.33143182,  1.12055451,\n",
       "        -0.53348874]])"
      ]
     },
     "execution_count": 35,
     "metadata": {},
     "output_type": "execute_result"
    }
   ],
   "source": [
    "x_test_norm = preprocessing.StandardScaler().fit(X_test).transform(X_test)\n",
    "x_test_norm[0:5]"
   ]
  },
  {
   "cell_type": "code",
   "execution_count": 36,
   "id": "dc2007d2",
   "metadata": {
    "execution": {
     "iopub.execute_input": "2024-02-19T20:40:31.238582Z",
     "iopub.status.busy": "2024-02-19T20:40:31.238286Z",
     "iopub.status.idle": "2024-02-19T20:40:31.328452Z",
     "shell.execute_reply": "2024-02-19T20:40:31.327269Z"
    },
    "papermill": {
     "duration": 0.10841,
     "end_time": "2024-02-19T20:40:31.330358",
     "exception": false,
     "start_time": "2024-02-19T20:40:31.221948",
     "status": "completed"
    },
    "tags": []
   },
   "outputs": [
    {
     "data": {
      "text/plain": [
       "array([0, 1, 1, 1, 1])"
      ]
     },
     "execution_count": 36,
     "metadata": {},
     "output_type": "execute_result"
    }
   ],
   "source": [
    "y_pred = neigh.predict(x_test_norm)\n",
    "y_pred[0:5]"
   ]
  },
  {
   "cell_type": "code",
   "execution_count": 37,
   "id": "53ca18c9",
   "metadata": {
    "execution": {
     "iopub.execute_input": "2024-02-19T20:40:31.363271Z",
     "iopub.status.busy": "2024-02-19T20:40:31.362861Z",
     "iopub.status.idle": "2024-02-19T20:40:31.372983Z",
     "shell.execute_reply": "2024-02-19T20:40:31.371985Z"
    },
    "papermill": {
     "duration": 0.029042,
     "end_time": "2024-02-19T20:40:31.374684",
     "exception": false,
     "start_time": "2024-02-19T20:40:31.345642",
     "status": "completed"
    },
    "tags": []
   },
   "outputs": [
    {
     "name": "stdout",
     "output_type": "stream",
     "text": [
      "F1_score:0.9321\n",
      "Test set Accuracy:  0.9325\n"
     ]
    }
   ],
   "source": [
    "knn_score=accuracy_score(y_test, y_pred)\n",
    "kNN_F1_SCORE=f1_score(y_test, y_pred, average='weighted') \n",
    "print('F1_score:%.4f'%kNN_F1_SCORE)\n",
    "print(\"Test set Accuracy: \", accuracy_score(y_test, y_pred))"
   ]
  },
  {
   "cell_type": "code",
   "execution_count": 38,
   "id": "b060236c",
   "metadata": {
    "execution": {
     "iopub.execute_input": "2024-02-19T20:40:31.407716Z",
     "iopub.status.busy": "2024-02-19T20:40:31.407374Z",
     "iopub.status.idle": "2024-02-19T20:40:31.419479Z",
     "shell.execute_reply": "2024-02-19T20:40:31.418536Z"
    },
    "papermill": {
     "duration": 0.032101,
     "end_time": "2024-02-19T20:40:31.422371",
     "exception": false,
     "start_time": "2024-02-19T20:40:31.390270",
     "status": "completed"
    },
    "tags": []
   },
   "outputs": [
    {
     "name": "stdout",
     "output_type": "stream",
     "text": [
      "              precision    recall  f1-score   support\n",
      "\n",
      "           0       0.86      1.00      0.93       336\n",
      "           1       1.00      0.88      0.94       464\n",
      "\n",
      "    accuracy                           0.93       800\n",
      "   macro avg       0.93      0.94      0.93       800\n",
      "weighted avg       0.94      0.93      0.93       800\n",
      "\n"
     ]
    }
   ],
   "source": [
    "print(classification_report(y_pred, y_test))"
   ]
  },
  {
   "cell_type": "code",
   "execution_count": 39,
   "id": "2041d8cf",
   "metadata": {
    "execution": {
     "iopub.execute_input": "2024-02-19T20:40:31.454904Z",
     "iopub.status.busy": "2024-02-19T20:40:31.453763Z",
     "iopub.status.idle": "2024-02-19T20:40:31.768619Z",
     "shell.execute_reply": "2024-02-19T20:40:31.767108Z"
    },
    "papermill": {
     "duration": 0.333168,
     "end_time": "2024-02-19T20:40:31.770840",
     "exception": false,
     "start_time": "2024-02-19T20:40:31.437672",
     "status": "completed"
    },
    "tags": []
   },
   "outputs": [
    {
     "name": "stdout",
     "output_type": "stream",
     "text": [
      "Confusion matrix, without normalization\n",
      "[[336  54]\n",
      " [  0 410]]\n"
     ]
    },
    {
     "data": {
      "image/png": "[encoded data removed]",
      "text/plain": [
       "<Figure size 640x480 with 2 Axes>"
      ]
     },
     "metadata": {},
     "output_type": "display_data"
    }
   ],
   "source": [
    "cnf_matrix = confusion_matrix(y_test, y_pred)\n",
    "class_names = ['Approval', 'Not Approval']\n",
    "plot_confusion_matrix(cnf_matrix, classes=class_names, normalize=False, title='Confusion Matrix')\n",
    "plt.show()"
   ]
  },
  {
   "cell_type": "markdown",
   "id": "9936de0d",
   "metadata": {
    "papermill": {
     "duration": 0.015228,
     "end_time": "2024-02-19T20:40:31.801842",
     "exception": false,
     "start_time": "2024-02-19T20:40:31.786614",
     "status": "completed"
    },
    "tags": []
   },
   "source": [
    "# Using Random Forest"
   ]
  },
  {
   "cell_type": "code",
   "execution_count": 40,
   "id": "1837dcf1",
   "metadata": {
    "execution": {
     "iopub.execute_input": "2024-02-19T20:40:31.837427Z",
     "iopub.status.busy": "2024-02-19T20:40:31.836820Z",
     "iopub.status.idle": "2024-02-19T20:40:32.826738Z",
     "shell.execute_reply": "2024-02-19T20:40:32.825823Z"
    },
    "papermill": {
     "duration": 1.009329,
     "end_time": "2024-02-19T20:40:32.828537",
     "exception": false,
     "start_time": "2024-02-19T20:40:31.819208",
     "status": "completed"
    },
    "tags": []
   },
   "outputs": [
    {
     "data": {
      "text/html": [
       "<style>#sk-container-id-3 {color: black;background-color: white;}#sk-container-id-3 pre{padding: 0;}#sk-container-id-3 div.sk-toggleable {background-color: white;}#sk-container-id-3 label.sk-toggleable__label {cursor: pointer;display: block;width: 100%;margin-bottom: 0;padding: 0.3em;box-sizing: border-box;text-align: center;}#sk-container-id-3 label.sk-toggleable__label-arrow:before {content: \"▸\";float: left;margin-right: 0.25em;color: #696969;}#sk-container-id-3 label.sk-toggleable__label-arrow:hover:before {color: black;}#sk-container-id-3 div.sk-estimator:hover label.sk-toggleable__label-arrow:before {color: black;}#sk-container-id-3 div.sk-toggleable__content {max-height: 0;max-width: 0;overflow: hidden;text-align: left;background-color: #f0f8ff;}#sk-container-id-3 div.sk-toggleable__content pre {margin: 0.2em;color: black;border-radius: 0.25em;background-color: #f0f8ff;}#sk-container-id-3 input.sk-toggleable__control:checked~div.sk-toggleable__content {max-height: 200px;max-width: 100%;overflow: auto;}#sk-container-id-3 input.sk-toggleable__control:checked~label.sk-toggleable__label-arrow:before {content: \"▾\";}#sk-container-id-3 div.sk-estimator input.sk-toggleable__control:checked~label.sk-toggleable__label {background-color: #d4ebff;}#sk-container-id-3 div.sk-label input.sk-toggleable__control:checked~label.sk-toggleable__label {background-color: #d4ebff;}#sk-container-id-3 input.sk-hidden--visually {border: 0;clip: rect(1px 1px 1px 1px);clip: rect(1px, 1px, 1px, 1px);height: 1px;margin: -1px;overflow: hidden;padding: 0;position: absolute;width: 1px;}#sk-container-id-3 div.sk-estimator {font-family: monospace;background-color: #f0f8ff;border: 1px dotted black;border-radius: 0.25em;box-sizing: border-box;margin-bottom: 0.5em;}#sk-container-id-3 div.sk-estimator:hover {background-color: #d4ebff;}#sk-container-id-3 div.sk-parallel-item::after {content: \"\";width: 100%;border-bottom: 1px solid gray;flex-grow: 1;}#sk-container-id-3 div.sk-label:hover label.sk-toggleable__label {background-color: #d4ebff;}#sk-container-id-3 div.sk-serial::before {content: \"\";position: absolute;border-left: 1px solid gray;box-sizing: border-box;top: 0;bottom: 0;left: 50%;z-index: 0;}#sk-container-id-3 div.sk-serial {display: flex;flex-direction: column;align-items: center;background-color: white;padding-right: 0.2em;padding-left: 0.2em;position: relative;}#sk-container-id-3 div.sk-item {position: relative;z-index: 1;}#sk-container-id-3 div.sk-parallel {display: flex;align-items: stretch;justify-content: center;background-color: white;position: relative;}#sk-container-id-3 div.sk-item::before, #sk-container-id-3 div.sk-parallel-item::before {content: \"\";position: absolute;border-left: 1px solid gray;box-sizing: border-box;top: 0;bottom: 0;left: 50%;z-index: -1;}#sk-container-id-3 div.sk-parallel-item {display: flex;flex-direction: column;z-index: 1;position: relative;background-color: white;}#sk-container-id-3 div.sk-parallel-item:first-child::after {align-self: flex-end;width: 50%;}#sk-container-id-3 div.sk-parallel-item:last-child::after {align-self: flex-start;width: 50%;}#sk-container-id-3 div.sk-parallel-item:only-child::after {width: 0;}#sk-container-id-3 div.sk-dashed-wrapped {border: 1px dashed gray;margin: 0 0.4em 0.5em 0.4em;box-sizing: border-box;padding-bottom: 0.4em;background-color: white;}#sk-container-id-3 div.sk-label label {font-family: monospace;font-weight: bold;display: inline-block;line-height: 1.2em;}#sk-container-id-3 div.sk-label-container {text-align: center;}#sk-container-id-3 div.sk-container {/* jupyter's `normalize.less` sets `[hidden] { display: none; }` but bootstrap.min.css set `[hidden] { display: none !important; }` so we also need the `!important` here to be able to override the default hidden behavior on the sphinx rendered scikit-learn.org. See: https://github.com/scikit-learn/scikit-learn/issues/21755 */display: inline-block !important;position: relative;}#sk-container-id-3 div.sk-text-repr-fallback {display: none;}</style><div id=\"sk-container-id-3\" class=\"sk-top-container\"><div class=\"sk-text-repr-fallback\"><pre>RandomForestClassifier(criterion=&#x27;entropy&#x27;, min_samples_split=4)</pre><b>In a Jupyter environment, please rerun this cell to show the HTML representation or trust the notebook. <br />On GitHub, the HTML representation is unable to render, please try loading this page with nbviewer.org.</b></div><div class=\"sk-container\" hidden><div class=\"sk-item\"><div class=\"sk-estimator sk-toggleable\"><input class=\"sk-toggleable__control sk-hidden--visually\" id=\"sk-estimator-id-3\" type=\"checkbox\" checked><label for=\"sk-estimator-id-3\" class=\"sk-toggleable__label sk-toggleable__label-arrow\">RandomForestClassifier</label><div class=\"sk-toggleable__content\"><pre>RandomForestClassifier(criterion=&#x27;entropy&#x27;, min_samples_split=4)</pre></div></div></div></div></div>"
      ],
      "text/plain": [
       "RandomForestClassifier(criterion='entropy', min_samples_split=4)"
      ]
     },
     "execution_count": 40,
     "metadata": {},
     "output_type": "execute_result"
    }
   ],
   "source": [
    "forest = RandomForestClassifier(criterion='entropy',max_depth= None, min_samples_leaf= 1, min_samples_split= 4)\n",
    "forest.fit(X_train, y_train)"
   ]
  },
  {
   "cell_type": "code",
   "execution_count": 41,
   "id": "e2723edf",
   "metadata": {
    "execution": {
     "iopub.execute_input": "2024-02-19T20:40:32.863216Z",
     "iopub.status.busy": "2024-02-19T20:40:32.862866Z",
     "iopub.status.idle": "2024-02-19T20:40:32.884877Z",
     "shell.execute_reply": "2024-02-19T20:40:32.883488Z"
    },
    "papermill": {
     "duration": 0.04267,
     "end_time": "2024-02-19T20:40:32.887172",
     "exception": false,
     "start_time": "2024-02-19T20:40:32.844502",
     "status": "completed"
    },
    "tags": []
   },
   "outputs": [],
   "source": [
    "y_pred = forest.predict(X_test)"
   ]
  },
  {
   "cell_type": "code",
   "execution_count": 42,
   "id": "7c35eb74",
   "metadata": {
    "execution": {
     "iopub.execute_input": "2024-02-19T20:40:32.923391Z",
     "iopub.status.busy": "2024-02-19T20:40:32.923000Z",
     "iopub.status.idle": "2024-02-19T20:40:32.933027Z",
     "shell.execute_reply": "2024-02-19T20:40:32.931735Z"
    },
    "papermill": {
     "duration": 0.03126,
     "end_time": "2024-02-19T20:40:32.935311",
     "exception": false,
     "start_time": "2024-02-19T20:40:32.904051",
     "status": "completed"
    },
    "tags": []
   },
   "outputs": [
    {
     "name": "stdout",
     "output_type": "stream",
     "text": [
      "F1_score:0.9800\n",
      "Accuracy: 0.980000\n"
     ]
    }
   ],
   "source": [
    "rand_score=accuracy_score(y_test, y_pred)\n",
    "RAnd_F1_SCORE=f1_score(y_test, y_pred, average='weighted') \n",
    "print('F1_score:%.4f'%RAnd_F1_SCORE)\n",
    "print('Accuracy: %f' % accuracy_score(y_test, y_pred))"
   ]
  },
  {
   "cell_type": "code",
   "execution_count": 43,
   "id": "50c2d7bc",
   "metadata": {
    "execution": {
     "iopub.execute_input": "2024-02-19T20:40:32.968937Z",
     "iopub.status.busy": "2024-02-19T20:40:32.968587Z",
     "iopub.status.idle": "2024-02-19T20:40:32.980397Z",
     "shell.execute_reply": "2024-02-19T20:40:32.978889Z"
    },
    "papermill": {
     "duration": 0.03072,
     "end_time": "2024-02-19T20:40:32.982112",
     "exception": false,
     "start_time": "2024-02-19T20:40:32.951392",
     "status": "completed"
    },
    "tags": []
   },
   "outputs": [
    {
     "name": "stdout",
     "output_type": "stream",
     "text": [
      "              precision    recall  f1-score   support\n",
      "\n",
      "           0       0.96      1.00      0.98       374\n",
      "           1       1.00      0.96      0.98       426\n",
      "\n",
      "    accuracy                           0.98       800\n",
      "   macro avg       0.98      0.98      0.98       800\n",
      "weighted avg       0.98      0.98      0.98       800\n",
      "\n"
     ]
    }
   ],
   "source": [
    "print(classification_report(y_pred, y_test))"
   ]
  },
  {
   "cell_type": "code",
   "execution_count": 44,
   "id": "bd597b81",
   "metadata": {
    "execution": {
     "iopub.execute_input": "2024-02-19T20:40:33.015036Z",
     "iopub.status.busy": "2024-02-19T20:40:33.014704Z",
     "iopub.status.idle": "2024-02-19T20:40:33.214949Z",
     "shell.execute_reply": "2024-02-19T20:40:33.214179Z"
    },
    "papermill": {
     "duration": 0.219395,
     "end_time": "2024-02-19T20:40:33.217067",
     "exception": false,
     "start_time": "2024-02-19T20:40:32.997672",
     "status": "completed"
    },
    "tags": []
   },
   "outputs": [
    {
     "name": "stdout",
     "output_type": "stream",
     "text": [
      "Confusion matrix, without normalization\n",
      "[[374  16]\n",
      " [  0 410]]\n"
     ]
    },
    {
     "data": {
      "image/png": "[encoded data removed]",
      "text/plain": [
       "<Figure size 640x480 with 2 Axes>"
      ]
     },
     "metadata": {},
     "output_type": "display_data"
    }
   ],
   "source": [
    "cnf_matrix = confusion_matrix(y_test, y_pred)\n",
    "class_names = ['Approval', 'Not Approval']\n",
    "plot_confusion_matrix(cnf_matrix, classes=class_names, normalize=False, title='Confusion Matrix')\n",
    "plt.show()"
   ]
  },
  {
   "cell_type": "code",
   "execution_count": 45,
   "id": "2927dbe1",
   "metadata": {
    "execution": {
     "iopub.execute_input": "2024-02-19T20:40:33.252748Z",
     "iopub.status.busy": "2024-02-19T20:40:33.252362Z",
     "iopub.status.idle": "2024-02-19T20:40:33.263904Z",
     "shell.execute_reply": "2024-02-19T20:40:33.263018Z"
    },
    "papermill": {
     "duration": 0.031454,
     "end_time": "2024-02-19T20:40:33.265982",
     "exception": false,
     "start_time": "2024-02-19T20:40:33.234528",
     "status": "completed"
    },
    "tags": []
   },
   "outputs": [
    {
     "data": {
      "text/html": [
       "<div>\n",
       "<style scoped>\n",
       "    .dataframe tbody tr th:only-of-type {\n",
       "        vertical-align: middle;\n",
       "    }\n",
       "\n",
       "    .dataframe tbody tr th {\n",
       "        vertical-align: top;\n",
       "    }\n",
       "\n",
       "    .dataframe thead th {\n",
       "        text-align: right;\n",
       "    }\n",
       "</style>\n",
       "<table border=\"1\" class=\"dataframe\">\n",
       "  <thead>\n",
       "    <tr style=\"text-align: right;\">\n",
       "      <th></th>\n",
       "      <th>Algorithm</th>\n",
       "      <th>Accuracy</th>\n",
       "      <th>F1_SCORE</th>\n",
       "    </tr>\n",
       "  </thead>\n",
       "  <tbody>\n",
       "    <tr>\n",
       "      <th>0</th>\n",
       "      <td>logistic regression</td>\n",
       "      <td>69.125</td>\n",
       "      <td>69.003641</td>\n",
       "    </tr>\n",
       "    <tr>\n",
       "      <th>1</th>\n",
       "      <td>SVM</td>\n",
       "      <td>93.250</td>\n",
       "      <td>93.207491</td>\n",
       "    </tr>\n",
       "    <tr>\n",
       "      <th>2</th>\n",
       "      <td>KNN</td>\n",
       "      <td>90.125</td>\n",
       "      <td>90.097895</td>\n",
       "    </tr>\n",
       "    <tr>\n",
       "      <th>3</th>\n",
       "      <td>Random forest</td>\n",
       "      <td>98.000</td>\n",
       "      <td>97.998196</td>\n",
       "    </tr>\n",
       "  </tbody>\n",
       "</table>\n",
       "</div>"
      ],
      "text/plain": [
       "             Algorithm  Accuracy   F1_SCORE\n",
       "0  logistic regression    69.125  69.003641\n",
       "1                  SVM    93.250  93.207491\n",
       "2                  KNN    90.125  90.097895\n",
       "3        Random forest    98.000  97.998196"
      ]
     },
     "execution_count": 45,
     "metadata": {},
     "output_type": "execute_result"
    }
   ],
   "source": [
    "Accuracy=[LR_score*100,knn_score*100,SVM_score*100,round(rand_score*100)]\n",
    "Algorithm=['logistic regression','SVM','KNN','Random forest']\n",
    "f1_score=[LR_F1_SCORE*100,kNN_F1_SCORE*100,SVM_F1_SCORE*100,RAnd_F1_SCORE*100]\n",
    "data={'Algorithm':Algorithm,'Accuracy':Accuracy,'F1_SCORE':f1_score}\n",
    "Report=pd.DataFrame(data=data)\n",
    "Report"
   ]
  },
  {
   "cell_type": "markdown",
   "id": "fb2d958b",
   "metadata": {
    "papermill": {
     "duration": 0.017609,
     "end_time": "2024-02-19T20:40:33.301203",
     "exception": false,
     "start_time": "2024-02-19T20:40:33.283594",
     "status": "completed"
    },
    "tags": []
   },
   "source": [
    "# RNN Approch"
   ]
  },
  {
   "cell_type": "markdown",
   "id": "8f831efa",
   "metadata": {
    "papermill": {
     "duration": 0.016607,
     "end_time": "2024-02-19T20:40:33.335038",
     "exception": false,
     "start_time": "2024-02-19T20:40:33.318431",
     "status": "completed"
    },
    "tags": []
   },
   "source": [
    "<h3>LSTM:</h3>\n",
    "LSTM (Long Short-Term Memory) is a type of Recurrent Neural Network (RNN). Both LSTM and traditional RNNs are neural network architectures designed for processing sequences of data. They are particularly well-suited for tasks involving sequential or time-dependent patterns, such as time series analysis, natural language processing, and speech recognition."
   ]
  },
  {
   "cell_type": "code",
   "execution_count": 46,
   "id": "63359af6",
   "metadata": {
    "execution": {
     "iopub.execute_input": "2024-02-19T20:40:33.372553Z",
     "iopub.status.busy": "2024-02-19T20:40:33.372167Z",
     "iopub.status.idle": "2024-02-19T20:41:22.464545Z",
     "shell.execute_reply": "2024-02-19T20:41:22.463264Z"
    },
    "papermill": {
     "duration": 49.114212,
     "end_time": "2024-02-19T20:41:22.467589",
     "exception": false,
     "start_time": "2024-02-19T20:40:33.353377",
     "status": "completed"
    },
    "tags": []
   },
   "outputs": [
    {
     "name": "stderr",
     "output_type": "stream",
     "text": [
      "2024-02-19 20:40:35.682245: E external/local_xla/xla/stream_executor/cuda/cuda_dnn.cc:9261] Unable to register cuDNN factory: Attempting to register factory for plugin cuDNN when one has already been registered\n",
      "2024-02-19 20:40:35.682374: E external/local_xla/xla/stream_executor/cuda/cuda_fft.cc:607] Unable to register cuFFT factory: Attempting to register factory for plugin cuFFT when one has already been registered\n",
      "2024-02-19 20:40:35.875011: E external/local_xla/xla/stream_executor/cuda/cuda_blas.cc:1515] Unable to register cuBLAS factory: Attempting to register factory for plugin cuBLAS when one has already been registered\n"
     ]
    },
    {
     "name": "stdout",
     "output_type": "stream",
     "text": [
      "Epoch 1/50\n",
      "225/225 [==============================] - 3s 5ms/step - loss: 0.6527 - accuracy: 0.6389 - val_loss: 0.6094 - val_accuracy: 0.6925\n",
      "Epoch 2/50\n",
      "225/225 [==============================] - 1s 3ms/step - loss: 0.5681 - accuracy: 0.7107 - val_loss: 0.5391 - val_accuracy: 0.7425\n",
      "Epoch 3/50\n",
      "225/225 [==============================] - 1s 3ms/step - loss: 0.5032 - accuracy: 0.7719 - val_loss: 0.4921 - val_accuracy: 0.7875\n",
      "Epoch 4/50\n",
      "225/225 [==============================] - 1s 3ms/step - loss: 0.4749 - accuracy: 0.7901 - val_loss: 0.4832 - val_accuracy: 0.7975\n",
      "Epoch 5/50\n",
      "225/225 [==============================] - 1s 3ms/step - loss: 0.4664 - accuracy: 0.7962 - val_loss: 0.4827 - val_accuracy: 0.7862\n",
      "Epoch 6/50\n",
      "225/225 [==============================] - 1s 3ms/step - loss: 0.4641 - accuracy: 0.7960 - val_loss: 0.4796 - val_accuracy: 0.7875\n",
      "Epoch 7/50\n",
      "225/225 [==============================] - 1s 3ms/step - loss: 0.4635 - accuracy: 0.7982 - val_loss: 0.4801 - val_accuracy: 0.7850\n",
      "Epoch 8/50\n",
      "225/225 [==============================] - 1s 3ms/step - loss: 0.4609 - accuracy: 0.7944 - val_loss: 0.4773 - val_accuracy: 0.7975\n",
      "Epoch 9/50\n",
      "225/225 [==============================] - 1s 3ms/step - loss: 0.4592 - accuracy: 0.7953 - val_loss: 0.4761 - val_accuracy: 0.8025\n",
      "Epoch 10/50\n",
      "225/225 [==============================] - 1s 3ms/step - loss: 0.4573 - accuracy: 0.7981 - val_loss: 0.4742 - val_accuracy: 0.8037\n",
      "Epoch 11/50\n",
      "225/225 [==============================] - 1s 3ms/step - loss: 0.4551 - accuracy: 0.8000 - val_loss: 0.4780 - val_accuracy: 0.7837\n",
      "Epoch 12/50\n",
      "225/225 [==============================] - 1s 3ms/step - loss: 0.4532 - accuracy: 0.7956 - val_loss: 0.4711 - val_accuracy: 0.8037\n",
      "Epoch 13/50\n",
      "225/225 [==============================] - 1s 3ms/step - loss: 0.4516 - accuracy: 0.8001 - val_loss: 0.4701 - val_accuracy: 0.8012\n",
      "Epoch 14/50\n",
      "225/225 [==============================] - 1s 3ms/step - loss: 0.4503 - accuracy: 0.7975 - val_loss: 0.4743 - val_accuracy: 0.7937\n",
      "Epoch 15/50\n",
      "225/225 [==============================] - 1s 3ms/step - loss: 0.4489 - accuracy: 0.7978 - val_loss: 0.4677 - val_accuracy: 0.7962\n",
      "Epoch 16/50\n",
      "225/225 [==============================] - 1s 3ms/step - loss: 0.4470 - accuracy: 0.7993 - val_loss: 0.4650 - val_accuracy: 0.8000\n",
      "Epoch 17/50\n",
      "225/225 [==============================] - 1s 3ms/step - loss: 0.4472 - accuracy: 0.8014 - val_loss: 0.4618 - val_accuracy: 0.8025\n",
      "Epoch 18/50\n",
      "225/225 [==============================] - 1s 3ms/step - loss: 0.4441 - accuracy: 0.7981 - val_loss: 0.4613 - val_accuracy: 0.8012\n",
      "Epoch 19/50\n",
      "225/225 [==============================] - 1s 3ms/step - loss: 0.4426 - accuracy: 0.8028 - val_loss: 0.4639 - val_accuracy: 0.7900\n",
      "Epoch 20/50\n",
      "225/225 [==============================] - 1s 3ms/step - loss: 0.4407 - accuracy: 0.7981 - val_loss: 0.4591 - val_accuracy: 0.7925\n",
      "Epoch 21/50\n",
      "225/225 [==============================] - 1s 2ms/step - loss: 0.4389 - accuracy: 0.8006 - val_loss: 0.4556 - val_accuracy: 0.8037\n",
      "Epoch 22/50\n",
      "225/225 [==============================] - 1s 3ms/step - loss: 0.4377 - accuracy: 0.8014 - val_loss: 0.4570 - val_accuracy: 0.7962\n",
      "Epoch 23/50\n",
      "225/225 [==============================] - 1s 3ms/step - loss: 0.4366 - accuracy: 0.8021 - val_loss: 0.4558 - val_accuracy: 0.8050\n",
      "Epoch 24/50\n",
      "225/225 [==============================] - 1s 3ms/step - loss: 0.4348 - accuracy: 0.8031 - val_loss: 0.4533 - val_accuracy: 0.7937\n",
      "Epoch 25/50\n",
      "225/225 [==============================] - 1s 3ms/step - loss: 0.4334 - accuracy: 0.8042 - val_loss: 0.4497 - val_accuracy: 0.8037\n",
      "Epoch 26/50\n",
      "225/225 [==============================] - 1s 3ms/step - loss: 0.4315 - accuracy: 0.8056 - val_loss: 0.4492 - val_accuracy: 0.8100\n",
      "Epoch 27/50\n",
      "225/225 [==============================] - 1s 3ms/step - loss: 0.4310 - accuracy: 0.8037 - val_loss: 0.4457 - val_accuracy: 0.8075\n",
      "Epoch 28/50\n",
      "225/225 [==============================] - 1s 3ms/step - loss: 0.4282 - accuracy: 0.8065 - val_loss: 0.4468 - val_accuracy: 0.8062\n",
      "Epoch 29/50\n",
      "225/225 [==============================] - 1s 3ms/step - loss: 0.4288 - accuracy: 0.8079 - val_loss: 0.4428 - val_accuracy: 0.8125\n",
      "Epoch 30/50\n",
      "225/225 [==============================] - 1s 3ms/step - loss: 0.4261 - accuracy: 0.8050 - val_loss: 0.4443 - val_accuracy: 0.7950\n",
      "Epoch 31/50\n",
      "225/225 [==============================] - 1s 3ms/step - loss: 0.4255 - accuracy: 0.8082 - val_loss: 0.4418 - val_accuracy: 0.8025\n",
      "Epoch 32/50\n",
      "225/225 [==============================] - 1s 3ms/step - loss: 0.4253 - accuracy: 0.8085 - val_loss: 0.4480 - val_accuracy: 0.7887\n",
      "Epoch 33/50\n",
      "225/225 [==============================] - 1s 3ms/step - loss: 0.4230 - accuracy: 0.8067 - val_loss: 0.4371 - val_accuracy: 0.8075\n",
      "Epoch 34/50\n",
      "225/225 [==============================] - 1s 3ms/step - loss: 0.4210 - accuracy: 0.8083 - val_loss: 0.4395 - val_accuracy: 0.8037\n",
      "Epoch 35/50\n",
      "225/225 [==============================] - 1s 3ms/step - loss: 0.4196 - accuracy: 0.8097 - val_loss: 0.4363 - val_accuracy: 0.8025\n",
      "Epoch 36/50\n",
      "225/225 [==============================] - 1s 3ms/step - loss: 0.4191 - accuracy: 0.8090 - val_loss: 0.4352 - val_accuracy: 0.8163\n",
      "Epoch 37/50\n",
      "225/225 [==============================] - 1s 3ms/step - loss: 0.4175 - accuracy: 0.8104 - val_loss: 0.4330 - val_accuracy: 0.8075\n",
      "Epoch 38/50\n",
      "225/225 [==============================] - 1s 3ms/step - loss: 0.4167 - accuracy: 0.8111 - val_loss: 0.4349 - val_accuracy: 0.8062\n",
      "Epoch 39/50\n",
      "225/225 [==============================] - 1s 3ms/step - loss: 0.4149 - accuracy: 0.8121 - val_loss: 0.4324 - val_accuracy: 0.8100\n",
      "Epoch 40/50\n",
      "225/225 [==============================] - 1s 3ms/step - loss: 0.4140 - accuracy: 0.8122 - val_loss: 0.4320 - val_accuracy: 0.8087\n",
      "Epoch 41/50\n",
      "225/225 [==============================] - 1s 3ms/step - loss: 0.4127 - accuracy: 0.8171 - val_loss: 0.4299 - val_accuracy: 0.8125\n",
      "Epoch 42/50\n",
      "225/225 [==============================] - 1s 3ms/step - loss: 0.4122 - accuracy: 0.8128 - val_loss: 0.4283 - val_accuracy: 0.8112\n",
      "Epoch 43/50\n",
      "225/225 [==============================] - 1s 3ms/step - loss: 0.4104 - accuracy: 0.8151 - val_loss: 0.4289 - val_accuracy: 0.8087\n",
      "Epoch 44/50\n",
      "225/225 [==============================] - 1s 3ms/step - loss: 0.4104 - accuracy: 0.8142 - val_loss: 0.4268 - val_accuracy: 0.8062\n",
      "Epoch 45/50\n",
      "225/225 [==============================] - 1s 3ms/step - loss: 0.4083 - accuracy: 0.8157 - val_loss: 0.4273 - val_accuracy: 0.8138\n",
      "Epoch 46/50\n",
      "225/225 [==============================] - 1s 3ms/step - loss: 0.4082 - accuracy: 0.8131 - val_loss: 0.4291 - val_accuracy: 0.8037\n",
      "Epoch 47/50\n",
      "225/225 [==============================] - 1s 3ms/step - loss: 0.4068 - accuracy: 0.8154 - val_loss: 0.4260 - val_accuracy: 0.8112\n",
      "Epoch 48/50\n",
      "225/225 [==============================] - 1s 3ms/step - loss: 0.4055 - accuracy: 0.8164 - val_loss: 0.4233 - val_accuracy: 0.8062\n",
      "Epoch 49/50\n",
      "225/225 [==============================] - 1s 3ms/step - loss: 0.4048 - accuracy: 0.8151 - val_loss: 0.4224 - val_accuracy: 0.8138\n",
      "Epoch 50/50\n",
      "225/225 [==============================] - 1s 3ms/step - loss: 0.4048 - accuracy: 0.8163 - val_loss: 0.4213 - val_accuracy: 0.8087\n",
      "25/25 [==============================] - 0s 2ms/step - loss: 0.4213 - accuracy: 0.8087\n",
      "Model Accuracy: 80.87%\n"
     ]
    }
   ],
   "source": [
    "import tensorflow as tf\n",
    "from tensorflow.keras.models import Sequential\n",
    "from tensorflow.keras.layers import LSTM, Dense\n",
    "# Reshape data for LSTM (assuming you have a time series dataset)\n",
    "X_train_lstm = X_train.reshape((X_train.shape[0], 1, X_train.shape[1]))\n",
    "X_test_lstm = X_test.reshape((X_test.shape[0], 1, X_test.shape[1]))\n",
    "\n",
    "# Build LSTM model\n",
    "model = Sequential()\n",
    "model.add(LSTM(50, input_shape=(X_train_lstm.shape[1], X_train_lstm.shape[2])))\n",
    "model.add(Dense(1, activation='sigmoid'))  # Assuming binary classification\n",
    "\n",
    "# Compile the model with a specified learning rate\n",
    "optimizer = tf.keras.optimizers.Adam(learning_rate=0.001)  # Adjust the learning rate as needed\n",
    "model.compile(optimizer=optimizer, loss='binary_crossentropy', metrics=['accuracy'])\n",
    "\n",
    "# Train the model\n",
    "model.fit(X_train_lstm, y_train, epochs=50, batch_size=32, validation_data=(X_test_lstm, y_test))\n",
    "\n",
    "# Evaluate the model\n",
    "_, accuracy = model.evaluate(X_test_lstm, y_test)\n",
    "print(f'Model Accuracy: {accuracy * 100:.2f}%')"
   ]
  }
 ],
 "metadata": {
  "kaggle": {
   "accelerator": "none",
   "dataSources": [
    {
     "datasetId": 3574954,
     "sourceId": 7628424,
     "sourceType": "datasetVersion"
    }
   ],
   "dockerImageVersionId": 30646,
   "isGpuEnabled": false,
   "isInternetEnabled": false,
   "language": "python",
   "sourceType": "notebook"
  },
  "kernelspec": {
   "display_name": "Python 3",
   "language": "python",
   "name": "python3"
  },
  "language_info": {
   "codemirror_mode": {
    "name": "ipython",
    "version": 3
   },
   "file_extension": ".py",
   "mimetype": "text/x-python",
   "name": "python",
   "nbconvert_exporter": "python",
   "pygments_lexer": "ipython3",
   "version": "3.10.13"
  },
  "papermill": {
   "default_parameters": {},
   "duration": 63.760425,
   "end_time": "2024-02-19T20:41:24.451176",
   "environment_variables": {},
   "exception": null,
   "input_path": "__notebook__.ipynb",
   "output_path": "__notebook__.ipynb",
   "parameters": {},
   "start_time": "2024-02-19T20:40:20.690751",
   "version": "2.5.0"
  }
 },
 "nbformat": 4,
 "nbformat_minor": 5
}
